{
  "nbformat": 4,
  "nbformat_minor": 0,
  "metadata": {
    "kernelspec": {
      "display_name": "Python 3",
      "language": "python",
      "name": "python3"
    },
    "language_info": {
      "codemirror_mode": {
        "name": "ipython",
        "version": 3
      },
      "file_extension": ".py",
      "mimetype": "text/x-python",
      "name": "python",
      "nbconvert_exporter": "python",
      "pygments_lexer": "ipython3",
      "version": "3.8.8"
    },
    "colab": {
      "provenance": []
    }
  },
  "cells": [
    {
      "cell_type": "markdown",
      "metadata": {
        "id": "k4ezJirofDOK"
      },
      "source": [
        "# Ejercicion de programación - Regresión Logistica\n",
        "\n",
        "En este ejercicio se implementa regresion logistica y se aplica a dos diferentes datasets."
      ]
    },
    {
      "cell_type": "code",
      "source": [
        "from google.colab import drive\n",
        "drive.mount('/content/drive')"
      ],
      "metadata": {
        "colab": {
          "base_uri": "https://localhost:8080/"
        },
        "id": "z9CZIm7rN6rJ",
        "outputId": "cd41a8ee-5a09-4b7f-992e-031294f3570e"
      },
      "execution_count": 1,
      "outputs": [
        {
          "output_type": "stream",
          "name": "stdout",
          "text": [
            "Drive already mounted at /content/drive; to attempt to forcibly remount, call drive.mount(\"/content/drive\", force_remount=True).\n"
          ]
        }
      ]
    },
    {
      "cell_type": "code",
      "metadata": {
        "id": "UIILrG1ifDOM"
      },
      "source": [
        "# se utiliza para el manejo de rutas y directorios.\n",
        "import os\n",
        "\n",
        "# Calculo cientifico y vectorial para python\n",
        "import numpy as np\n",
        "\n",
        "# Librerias para graficar\n",
        "from matplotlib import pyplot\n",
        "\n",
        "# Modulo de optimización de scipy\n",
        "from scipy import optimize\n",
        "\n",
        "# le dice a matplotlib que incruste gráficos en el cuaderno\n",
        "%matplotlib inline"
      ],
      "execution_count": 2,
      "outputs": []
    },
    {
      "cell_type": "code",
      "metadata": {
        "id": "hsQaGJOmfbi5",
        "colab": {
          "base_uri": "https://localhost:8080/"
        },
        "outputId": "be128561-ece2-4cb4-aabd-d8a203c72944"
      },
      "source": [
        "!ls\n",
        "%mkdir data\n",
        "!ls"
      ],
      "execution_count": 3,
      "outputs": [
        {
          "output_type": "stream",
          "name": "stdout",
          "text": [
            "data  drive  entrenamiento.csv\tprueva.csv  sample_data\n",
            "mkdir: cannot create directory ‘data’: File exists\n",
            "data  drive  entrenamiento.csv\tprueva.csv  sample_data\n"
          ]
        }
      ]
    },
    {
      "cell_type": "code",
      "metadata": {
        "id": "uafc5vSkfL9X",
        "colab": {
          "base_uri": "https://localhost:8080/",
          "height": 35
        },
        "outputId": "33738307-eb03-47d5-f6f4-f170d9f2da59"
      },
      "source": [
        "import shutil\n",
        "\n",
        "shutil.copy(\"/content/drive/MyDrive/IA/Bank_registries.csv\",\"/content/data/ex2data1.txt\")\n",
        "# shutil.copy(\"/content/nl2sparql/data/lcquad10/linked_answer.json\",\"/content/gdrive/MyDrive/Colab Notebooks/nl2sparql/data/lcquad10/linked_answer.json\")"
      ],
      "execution_count": 4,
      "outputs": [
        {
          "output_type": "execute_result",
          "data": {
            "text/plain": [
              "'/content/data/ex2data1.txt'"
            ],
            "application/vnd.google.colaboratory.intrinsic+json": {
              "type": "string"
            }
          },
          "metadata": {},
          "execution_count": 4
        }
      ]
    },
    {
      "cell_type": "code",
      "source": [
        "import pandas as pd\n",
        "from sklearn.preprocessing import LabelEncoder\n",
        "from datetime import datetime\n",
        "from sklearn.model_selection import train_test_split"
      ],
      "metadata": {
        "id": "lk2NkNJ7QnTl"
      },
      "execution_count": 5,
      "outputs": []
    },
    {
      "cell_type": "code",
      "source": [
        "#Carga de dataset\n",
        "data = pd.read_csv('/content/data/ex2data1.txt')"
      ],
      "metadata": {
        "id": "whwIx6J0RQ7K"
      },
      "execution_count": 6,
      "outputs": []
    },
    {
      "cell_type": "code",
      "source": [
        "print(data)"
      ],
      "metadata": {
        "colab": {
          "base_uri": "https://localhost:8080/"
        },
        "id": "haoGHbr4Rknq",
        "outputId": "4c3a2d97-3b95-4773-cc9d-b30e3b1e8380"
      },
      "execution_count": 7,
      "outputs": [
        {
          "output_type": "stream",
          "name": "stdout",
          "text": [
            "      RowNumber  CustomerId    Surname  CreditScore Geography  Gender  Age  \\\n",
            "0             1    15634602   Hargrave          619    France  Female   42   \n",
            "1             2    15647311       Hill          608     Spain  Female   41   \n",
            "2             3    15619304       Onio          502    France  Female   42   \n",
            "3             4    15701354       Boni          699    France  Female   39   \n",
            "4             5    15737888   Mitchell          850     Spain  Female   43   \n",
            "...         ...         ...        ...          ...       ...     ...  ...   \n",
            "9995       9996    15606229   Obijiaku          771    France    Male   39   \n",
            "9996       9997    15569892  Johnstone          516    France    Male   35   \n",
            "9997       9998    15584532        Liu          709    France  Female   36   \n",
            "9998       9999    15682355  Sabbatini          772   Germany    Male   42   \n",
            "9999      10000    15628319     Walker          792    France  Female   28   \n",
            "\n",
            "      Tenure    Balance  NumOfProducts  HasCrCard  IsActiveMember  \\\n",
            "0          2       0.00              1          1               1   \n",
            "1          1   83807.86              1          0               1   \n",
            "2          8  159660.80              3          1               0   \n",
            "3          1       0.00              2          0               0   \n",
            "4          2  125510.82              1          1               1   \n",
            "...      ...        ...            ...        ...             ...   \n",
            "9995       5       0.00              2          1               0   \n",
            "9996      10   57369.61              1          1               1   \n",
            "9997       7       0.00              1          0               1   \n",
            "9998       3   75075.31              2          1               0   \n",
            "9999       4  130142.79              1          1               0   \n",
            "\n",
            "      EstimatedSalary  Exited  \n",
            "0           101348.88       1  \n",
            "1           112542.58       0  \n",
            "2           113931.57       1  \n",
            "3            93826.63       0  \n",
            "4            79084.10       0  \n",
            "...               ...     ...  \n",
            "9995         96270.64       0  \n",
            "9996        101699.77       0  \n",
            "9997         42085.58       1  \n",
            "9998         92888.52       1  \n",
            "9999         38190.78       0  \n",
            "\n",
            "[10000 rows x 14 columns]\n"
          ]
        }
      ]
    },
    {
      "cell_type": "code",
      "source": [
        "data.info()"
      ],
      "metadata": {
        "colab": {
          "base_uri": "https://localhost:8080/"
        },
        "id": "3_8RJsDwRp1P",
        "outputId": "97465f48-9588-4a46-eb7e-abf29eab48dc"
      },
      "execution_count": 8,
      "outputs": [
        {
          "output_type": "stream",
          "name": "stdout",
          "text": [
            "<class 'pandas.core.frame.DataFrame'>\n",
            "RangeIndex: 10000 entries, 0 to 9999\n",
            "Data columns (total 14 columns):\n",
            " #   Column           Non-Null Count  Dtype  \n",
            "---  ------           --------------  -----  \n",
            " 0   RowNumber        10000 non-null  int64  \n",
            " 1   CustomerId       10000 non-null  int64  \n",
            " 2   Surname          10000 non-null  object \n",
            " 3   CreditScore      10000 non-null  int64  \n",
            " 4   Geography        10000 non-null  object \n",
            " 5   Gender           10000 non-null  object \n",
            " 6   Age              10000 non-null  int64  \n",
            " 7   Tenure           10000 non-null  int64  \n",
            " 8   Balance          10000 non-null  float64\n",
            " 9   NumOfProducts    10000 non-null  int64  \n",
            " 10  HasCrCard        10000 non-null  int64  \n",
            " 11  IsActiveMember   10000 non-null  int64  \n",
            " 12  EstimatedSalary  10000 non-null  float64\n",
            " 13  Exited           10000 non-null  int64  \n",
            "dtypes: float64(2), int64(9), object(3)\n",
            "memory usage: 1.1+ MB\n"
          ]
        }
      ]
    },
    {
      "cell_type": "code",
      "source": [
        "# Supongamos que 'data' es tu DataFrame\n",
        "columna_categorica = 'Surname'\n",
        "\n",
        "# Crea una nueva columna numérica y copia los valores de la columna categórica\n",
        "\n",
        "# Elimina la columna categórica original\n",
        "data.drop(columna_categorica, axis=1, inplace=True)\n"
      ],
      "metadata": {
        "id": "5n8uuvZ9VN-J"
      },
      "execution_count": 9,
      "outputs": []
    },
    {
      "cell_type": "code",
      "source": [
        "data.info()"
      ],
      "metadata": {
        "colab": {
          "base_uri": "https://localhost:8080/"
        },
        "id": "4xiNbrQyVkLR",
        "outputId": "95630c43-0a4a-40da-e699-7be5807578d5"
      },
      "execution_count": 10,
      "outputs": [
        {
          "output_type": "stream",
          "name": "stdout",
          "text": [
            "<class 'pandas.core.frame.DataFrame'>\n",
            "RangeIndex: 10000 entries, 0 to 9999\n",
            "Data columns (total 13 columns):\n",
            " #   Column           Non-Null Count  Dtype  \n",
            "---  ------           --------------  -----  \n",
            " 0   RowNumber        10000 non-null  int64  \n",
            " 1   CustomerId       10000 non-null  int64  \n",
            " 2   CreditScore      10000 non-null  int64  \n",
            " 3   Geography        10000 non-null  object \n",
            " 4   Gender           10000 non-null  object \n",
            " 5   Age              10000 non-null  int64  \n",
            " 6   Tenure           10000 non-null  int64  \n",
            " 7   Balance          10000 non-null  float64\n",
            " 8   NumOfProducts    10000 non-null  int64  \n",
            " 9   HasCrCard        10000 non-null  int64  \n",
            " 10  IsActiveMember   10000 non-null  int64  \n",
            " 11  EstimatedSalary  10000 non-null  float64\n",
            " 12  Exited           10000 non-null  int64  \n",
            "dtypes: float64(2), int64(9), object(2)\n",
            "memory usage: 1015.8+ KB\n"
          ]
        }
      ]
    },
    {
      "cell_type": "code",
      "source": [
        "#variables categoricas\n",
        "columnas_categoricas = data.select_dtypes(include=['object']).columns\n",
        "#variables fechas\n",
        "columnas_fechas = data.select_dtypes(include=['datetime64']).columns"
      ],
      "metadata": {
        "id": "NQr7AEEiTbvz"
      },
      "execution_count": 11,
      "outputs": []
    },
    {
      "cell_type": "code",
      "source": [
        "for columna in columnas_categoricas:\n",
        "  le = LabelEncoder()\n",
        "  data[columna] = le.fit_transform(data[columna])"
      ],
      "metadata": {
        "id": "Yg818GsDUwll"
      },
      "execution_count": 12,
      "outputs": []
    },
    {
      "cell_type": "code",
      "source": [
        "#Fechas a numeros\n",
        "for columna in columnas_fechas:\n",
        "  data[columna] = pd.to_numeric(data[columna].map(datetime.timestamp))"
      ],
      "metadata": {
        "id": "HBqDzcApUz6x"
      },
      "execution_count": 13,
      "outputs": []
    },
    {
      "cell_type": "code",
      "source": [
        "data.info()"
      ],
      "metadata": {
        "colab": {
          "base_uri": "https://localhost:8080/"
        },
        "id": "0ZF9dDXFV56l",
        "outputId": "bf119c6a-9aeb-4312-9542-d9d9aa388a0b"
      },
      "execution_count": 14,
      "outputs": [
        {
          "output_type": "stream",
          "name": "stdout",
          "text": [
            "<class 'pandas.core.frame.DataFrame'>\n",
            "RangeIndex: 10000 entries, 0 to 9999\n",
            "Data columns (total 13 columns):\n",
            " #   Column           Non-Null Count  Dtype  \n",
            "---  ------           --------------  -----  \n",
            " 0   RowNumber        10000 non-null  int64  \n",
            " 1   CustomerId       10000 non-null  int64  \n",
            " 2   CreditScore      10000 non-null  int64  \n",
            " 3   Geography        10000 non-null  int64  \n",
            " 4   Gender           10000 non-null  int64  \n",
            " 5   Age              10000 non-null  int64  \n",
            " 6   Tenure           10000 non-null  int64  \n",
            " 7   Balance          10000 non-null  float64\n",
            " 8   NumOfProducts    10000 non-null  int64  \n",
            " 9   HasCrCard        10000 non-null  int64  \n",
            " 10  IsActiveMember   10000 non-null  int64  \n",
            " 11  EstimatedSalary  10000 non-null  float64\n",
            " 12  Exited           10000 non-null  int64  \n",
            "dtypes: float64(2), int64(11)\n",
            "memory usage: 1015.8 KB\n"
          ]
        }
      ]
    },
    {
      "cell_type": "code",
      "source": [
        "print(data)"
      ],
      "metadata": {
        "colab": {
          "base_uri": "https://localhost:8080/"
        },
        "id": "sizHa_T-V_lU",
        "outputId": "c719fa1f-7d10-46a2-b320-2664c9497231"
      },
      "execution_count": 15,
      "outputs": [
        {
          "output_type": "stream",
          "name": "stdout",
          "text": [
            "      RowNumber  CustomerId  CreditScore  Geography  Gender  Age  Tenure  \\\n",
            "0             1    15634602          619          0       0   42       2   \n",
            "1             2    15647311          608          2       0   41       1   \n",
            "2             3    15619304          502          0       0   42       8   \n",
            "3             4    15701354          699          0       0   39       1   \n",
            "4             5    15737888          850          2       0   43       2   \n",
            "...         ...         ...          ...        ...     ...  ...     ...   \n",
            "9995       9996    15606229          771          0       1   39       5   \n",
            "9996       9997    15569892          516          0       1   35      10   \n",
            "9997       9998    15584532          709          0       0   36       7   \n",
            "9998       9999    15682355          772          1       1   42       3   \n",
            "9999      10000    15628319          792          0       0   28       4   \n",
            "\n",
            "        Balance  NumOfProducts  HasCrCard  IsActiveMember  EstimatedSalary  \\\n",
            "0          0.00              1          1               1        101348.88   \n",
            "1      83807.86              1          0               1        112542.58   \n",
            "2     159660.80              3          1               0        113931.57   \n",
            "3          0.00              2          0               0         93826.63   \n",
            "4     125510.82              1          1               1         79084.10   \n",
            "...         ...            ...        ...             ...              ...   \n",
            "9995       0.00              2          1               0         96270.64   \n",
            "9996   57369.61              1          1               1        101699.77   \n",
            "9997       0.00              1          0               1         42085.58   \n",
            "9998   75075.31              2          1               0         92888.52   \n",
            "9999  130142.79              1          1               0         38190.78   \n",
            "\n",
            "      Exited  \n",
            "0          1  \n",
            "1          0  \n",
            "2          1  \n",
            "3          0  \n",
            "4          0  \n",
            "...      ...  \n",
            "9995       0  \n",
            "9996       0  \n",
            "9997       1  \n",
            "9998       1  \n",
            "9999       0  \n",
            "\n",
            "[10000 rows x 13 columns]\n"
          ]
        }
      ]
    },
    {
      "cell_type": "code",
      "source": [
        "## Division de dataset en entrenamiento y prueba\n",
        "train_data, test_data = train_test_split(data, test_size=0.2, random_state=42)"
      ],
      "metadata": {
        "id": "XayAwz-1jfgG"
      },
      "execution_count": 16,
      "outputs": []
    },
    {
      "cell_type": "code",
      "source": [
        "print(train_data)"
      ],
      "metadata": {
        "colab": {
          "base_uri": "https://localhost:8080/"
        },
        "id": "XMZXNhjOjo5j",
        "outputId": "fbaa6a09-ab27-4dae-8eaa-c45608054091"
      },
      "execution_count": 17,
      "outputs": [
        {
          "output_type": "stream",
          "name": "stdout",
          "text": [
            "      RowNumber  CustomerId  CreditScore  Geography  Gender  Age  Tenure  \\\n",
            "9254       9255    15601116          686          0       1   32       6   \n",
            "1561       1562    15766374          632          1       1   42       4   \n",
            "1670       1671    15716994          559          2       1   24       3   \n",
            "6087       6088    15730759          561          0       0   27       9   \n",
            "6669       6670    15797900          517          0       1   56       9   \n",
            "...         ...         ...          ...        ...     ...  ...     ...   \n",
            "5734       5735    15596647          768          0       1   54       8   \n",
            "5191       5192    15681075          682          0       0   58       1   \n",
            "5390       5391    15573851          735          0       0   38       1   \n",
            "860         861    15807663          667          0       1   43       8   \n",
            "7270       7271    15706268          697          1       1   51       1   \n",
            "\n",
            "        Balance  NumOfProducts  HasCrCard  IsActiveMember  EstimatedSalary  \\\n",
            "9254       0.00              2          1               1        179093.26   \n",
            "1561  119624.60              2          1               1        195978.86   \n",
            "1670  114739.92              1          1               0         85891.02   \n",
            "6087  135637.00              1          1               0        153080.40   \n",
            "6669  142147.32              1          0               0         39488.04   \n",
            "...         ...            ...        ...             ...              ...   \n",
            "5734   69712.74              1          1               1         69381.05   \n",
            "5191       0.00              1          1               1           706.50   \n",
            "5390       0.00              3          0               0         92220.12   \n",
            "860   190227.46              1          1               0         97508.04   \n",
            "7270  147910.30              1          1               1         53581.14   \n",
            "\n",
            "      Exited  \n",
            "9254       0  \n",
            "1561       0  \n",
            "1670       1  \n",
            "6087       1  \n",
            "6669       1  \n",
            "...      ...  \n",
            "5734       0  \n",
            "5191       0  \n",
            "5390       1  \n",
            "860        1  \n",
            "7270       0  \n",
            "\n",
            "[8000 rows x 13 columns]\n"
          ]
        }
      ]
    },
    {
      "cell_type": "code",
      "source": [
        "train_data.info()"
      ],
      "metadata": {
        "colab": {
          "base_uri": "https://localhost:8080/"
        },
        "id": "PeGp3isnjxm0",
        "outputId": "ffeda4e3-0c2d-4218-d75d-6b2601a020d6"
      },
      "execution_count": 18,
      "outputs": [
        {
          "output_type": "stream",
          "name": "stdout",
          "text": [
            "<class 'pandas.core.frame.DataFrame'>\n",
            "Int64Index: 8000 entries, 9254 to 7270\n",
            "Data columns (total 13 columns):\n",
            " #   Column           Non-Null Count  Dtype  \n",
            "---  ------           --------------  -----  \n",
            " 0   RowNumber        8000 non-null   int64  \n",
            " 1   CustomerId       8000 non-null   int64  \n",
            " 2   CreditScore      8000 non-null   int64  \n",
            " 3   Geography        8000 non-null   int64  \n",
            " 4   Gender           8000 non-null   int64  \n",
            " 5   Age              8000 non-null   int64  \n",
            " 6   Tenure           8000 non-null   int64  \n",
            " 7   Balance          8000 non-null   float64\n",
            " 8   NumOfProducts    8000 non-null   int64  \n",
            " 9   HasCrCard        8000 non-null   int64  \n",
            " 10  IsActiveMember   8000 non-null   int64  \n",
            " 11  EstimatedSalary  8000 non-null   float64\n",
            " 12  Exited           8000 non-null   int64  \n",
            "dtypes: float64(2), int64(11)\n",
            "memory usage: 875.0 KB\n"
          ]
        }
      ]
    },
    {
      "cell_type": "code",
      "source": [
        "test_data.info()"
      ],
      "metadata": {
        "colab": {
          "base_uri": "https://localhost:8080/"
        },
        "id": "dMJCF9KXj9A1",
        "outputId": "88331d3c-51e3-49da-c954-06df41990264"
      },
      "execution_count": 19,
      "outputs": [
        {
          "output_type": "stream",
          "name": "stdout",
          "text": [
            "<class 'pandas.core.frame.DataFrame'>\n",
            "Int64Index: 2000 entries, 6252 to 6929\n",
            "Data columns (total 13 columns):\n",
            " #   Column           Non-Null Count  Dtype  \n",
            "---  ------           --------------  -----  \n",
            " 0   RowNumber        2000 non-null   int64  \n",
            " 1   CustomerId       2000 non-null   int64  \n",
            " 2   CreditScore      2000 non-null   int64  \n",
            " 3   Geography        2000 non-null   int64  \n",
            " 4   Gender           2000 non-null   int64  \n",
            " 5   Age              2000 non-null   int64  \n",
            " 6   Tenure           2000 non-null   int64  \n",
            " 7   Balance          2000 non-null   float64\n",
            " 8   NumOfProducts    2000 non-null   int64  \n",
            " 9   HasCrCard        2000 non-null   int64  \n",
            " 10  IsActiveMember   2000 non-null   int64  \n",
            " 11  EstimatedSalary  2000 non-null   float64\n",
            " 12  Exited           2000 non-null   int64  \n",
            "dtypes: float64(2), int64(11)\n",
            "memory usage: 218.8 KB\n"
          ]
        }
      ]
    },
    {
      "cell_type": "code",
      "source": [
        "train_data.to_csv(\"entrenamiento.csv\",index=False)"
      ],
      "metadata": {
        "id": "BUhCwRMQkFQo"
      },
      "execution_count": 20,
      "outputs": []
    },
    {
      "cell_type": "code",
      "source": [
        "test_data.to_csv(\"prueva.csv\",index=False)"
      ],
      "metadata": {
        "id": "2sSn31N7keYs"
      },
      "execution_count": 21,
      "outputs": []
    },
    {
      "cell_type": "code",
      "source": [
        "data=pd.read_csv('/content/entrenamiento.csv')"
      ],
      "metadata": {
        "id": "4DLWiyKIky8b"
      },
      "execution_count": 22,
      "outputs": []
    },
    {
      "cell_type": "code",
      "source": [
        "# Lectura de Datos\n",
        "X = data.iloc[:, :12]\n",
        "y = data.iloc[:, 12]\n",
        "m = y.size"
      ],
      "metadata": {
        "id": "494Y5RuuWTLs"
      },
      "execution_count": 23,
      "outputs": []
    },
    {
      "cell_type": "code",
      "source": [
        "print(X)\n",
        "print('*'*25)\n",
        "print(y)"
      ],
      "metadata": {
        "colab": {
          "base_uri": "https://localhost:8080/"
        },
        "id": "L0J4oZHvWkeP",
        "outputId": "9fded39e-b9be-488b-a402-e9ef8415dfeb"
      },
      "execution_count": 24,
      "outputs": [
        {
          "output_type": "stream",
          "name": "stdout",
          "text": [
            "      RowNumber  CustomerId  CreditScore  Geography  Gender  Age  Tenure  \\\n",
            "0          9255    15601116          686          0       1   32       6   \n",
            "1          1562    15766374          632          1       1   42       4   \n",
            "2          1671    15716994          559          2       1   24       3   \n",
            "3          6088    15730759          561          0       0   27       9   \n",
            "4          6670    15797900          517          0       1   56       9   \n",
            "...         ...         ...          ...        ...     ...  ...     ...   \n",
            "7995       5735    15596647          768          0       1   54       8   \n",
            "7996       5192    15681075          682          0       0   58       1   \n",
            "7997       5391    15573851          735          0       0   38       1   \n",
            "7998        861    15807663          667          0       1   43       8   \n",
            "7999       7271    15706268          697          1       1   51       1   \n",
            "\n",
            "        Balance  NumOfProducts  HasCrCard  IsActiveMember  EstimatedSalary  \n",
            "0          0.00              2          1               1        179093.26  \n",
            "1     119624.60              2          1               1        195978.86  \n",
            "2     114739.92              1          1               0         85891.02  \n",
            "3     135637.00              1          1               0        153080.40  \n",
            "4     142147.32              1          0               0         39488.04  \n",
            "...         ...            ...        ...             ...              ...  \n",
            "7995   69712.74              1          1               1         69381.05  \n",
            "7996       0.00              1          1               1           706.50  \n",
            "7997       0.00              3          0               0         92220.12  \n",
            "7998  190227.46              1          1               0         97508.04  \n",
            "7999  147910.30              1          1               1         53581.14  \n",
            "\n",
            "[8000 rows x 12 columns]\n",
            "*************************\n",
            "0       0\n",
            "1       0\n",
            "2       1\n",
            "3       1\n",
            "4       1\n",
            "       ..\n",
            "7995    0\n",
            "7996    0\n",
            "7997    1\n",
            "7998    1\n",
            "7999    0\n",
            "Name: Exited, Length: 8000, dtype: int64\n"
          ]
        }
      ]
    },
    {
      "cell_type": "code",
      "metadata": {
        "id": "Yxz27db7fDOQ"
      },
      "source": [
        "def sigmoid(z):\n",
        "    # Calcula la sigmoide de una entrada z\n",
        "    # convierte la intrada a un arreglo numpy\n",
        "    z = np.array(z)\n",
        "\n",
        "    g = np.zeros(z.shape)\n",
        "\n",
        "    g = 1 / (1 + np.exp(-z))\n",
        "\n",
        "    return g"
      ],
      "execution_count": 25,
      "outputs": []
    },
    {
      "cell_type": "markdown",
      "metadata": {
        "id": "kzXMjefFfDOQ"
      },
      "source": [
        "Se calcula el valor de la sigmoide aplicando la funcion sigmoid con `z=0`, se debe obtener un resultado de 0.5. RE recomienda experimentar con otros valores de `z`."
      ]
    },
    {
      "cell_type": "code",
      "metadata": {
        "id": "arfKRAAVfDOQ"
      },
      "source": [],
      "execution_count": 25,
      "outputs": []
    },
    {
      "cell_type": "code",
      "metadata": {
        "id": "kjavk2fEfDOX"
      },
      "source": [],
      "execution_count": 25,
      "outputs": []
    },
    {
      "cell_type": "code",
      "source": [
        "def  featureNormalize(X):\n",
        "    X_norm = X.copy()\n",
        "    mu = np.zeros(X.shape[1])\n",
        "    sigma = np.zeros(X.shape[1])\n",
        "\n",
        "    mu = np.mean(X, axis = 0)\n",
        "    sigma = np.std(X, axis = 0)\n",
        "    X_norm = (X - mu) / sigma\n",
        "\n",
        "    return X_norm, mu, sigma\n"
      ],
      "metadata": {
        "id": "YvucvqdWRh68"
      },
      "execution_count": 26,
      "outputs": []
    },
    {
      "cell_type": "code",
      "source": [
        "# llama featureNormalize con los datos cargados\n",
        "X_norm, mu, sigma = featureNormalize(X)\n",
        "\n",
        "print(X)\n",
        "print('Media calculada:', mu)\n",
        "print('Desviación estandar calculada:', sigma)\n",
        "print(X_norm)"
      ],
      "metadata": {
        "colab": {
          "base_uri": "https://localhost:8080/"
        },
        "id": "Wd5Nm8F0thLM",
        "outputId": "d128abef-933b-442e-ba8e-810592db828a"
      },
      "execution_count": 27,
      "outputs": [
        {
          "output_type": "stream",
          "name": "stdout",
          "text": [
            "      RowNumber  CustomerId  CreditScore  Geography  Gender  Age  Tenure  \\\n",
            "0          9255    15601116          686          0       1   32       6   \n",
            "1          1562    15766374          632          1       1   42       4   \n",
            "2          1671    15716994          559          2       1   24       3   \n",
            "3          6088    15730759          561          0       0   27       9   \n",
            "4          6670    15797900          517          0       1   56       9   \n",
            "...         ...         ...          ...        ...     ...  ...     ...   \n",
            "7995       5735    15596647          768          0       1   54       8   \n",
            "7996       5192    15681075          682          0       0   58       1   \n",
            "7997       5391    15573851          735          0       0   38       1   \n",
            "7998        861    15807663          667          0       1   43       8   \n",
            "7999       7271    15706268          697          1       1   51       1   \n",
            "\n",
            "        Balance  NumOfProducts  HasCrCard  IsActiveMember  EstimatedSalary  \n",
            "0          0.00              2          1               1        179093.26  \n",
            "1     119624.60              2          1               1        195978.86  \n",
            "2     114739.92              1          1               0         85891.02  \n",
            "3     135637.00              1          1               0        153080.40  \n",
            "4     142147.32              1          0               0         39488.04  \n",
            "...         ...            ...        ...             ...              ...  \n",
            "7995   69712.74              1          1               1         69381.05  \n",
            "7996       0.00              1          1               1           706.50  \n",
            "7997       0.00              3          0               0         92220.12  \n",
            "7998  190227.46              1          1               0         97508.04  \n",
            "7999  147910.30              1          1               1         53581.14  \n",
            "\n",
            "[8000 rows x 12 columns]\n",
            "Media calculada: RowNumber          5.012507e+03\n",
            "CustomerId         1.569067e+07\n",
            "CreditScore        6.516476e+02\n",
            "Geography          7.501250e-01\n",
            "Gender             5.452500e-01\n",
            "Age                3.889775e+01\n",
            "Tenure             5.003875e+00\n",
            "Balance            7.610214e+04\n",
            "NumOfProducts      1.531375e+00\n",
            "HasCrCard          7.035000e-01\n",
            "IsActiveMember     5.127500e-01\n",
            "EstimatedSalary    1.004313e+05\n",
            "dtype: float64\n",
            "Desviación estandar calculada: RowNumber           2887.468933\n",
            "CustomerId         71842.944097\n",
            "CreditScore           96.360177\n",
            "Geography              0.828364\n",
            "Gender                 0.497948\n",
            "Age                   10.518296\n",
            "Tenure                 2.881642\n",
            "Balance            62457.101822\n",
            "NumOfProducts          0.579669\n",
            "HasCrCard              0.456714\n",
            "IsActiveMember         0.499837\n",
            "EstimatedSalary    57515.325387\n",
            "dtype: float64\n",
            "      RowNumber  CustomerId  CreditScore  Geography    Gender       Age  \\\n",
            "0      1.469277   -1.246456     0.356500  -0.905550  0.913248 -0.655786   \n",
            "1     -1.194994    1.053811    -0.203898   0.301649  0.913248  0.294938   \n",
            "2     -1.157244    0.366479    -0.961472   1.508847  0.913248 -1.416365   \n",
            "3      0.372469    0.558077    -0.940717  -0.905550 -1.094993 -1.131148   \n",
            "4      0.574030    1.492630    -1.397337  -0.905550  0.913248  1.625953   \n",
            "...         ...         ...          ...        ...       ...       ...   \n",
            "7995   0.250217   -1.308662     1.207474  -0.905550  0.913248  1.435808   \n",
            "7996   0.062163   -0.133487     0.314989  -0.905550 -1.094993  1.816097   \n",
            "7997   0.131081   -1.625965     0.865009  -0.905550 -1.094993 -0.085351   \n",
            "7998  -1.437767    1.628523     0.159323  -0.905550  0.913248  0.390011   \n",
            "7999   0.782171    0.217181     0.470655   0.301649  0.913248  1.150590   \n",
            "\n",
            "        Tenure   Balance  NumOfProducts  HasCrCard  IsActiveMember  \\\n",
            "0     0.345680 -1.218471       0.808436   0.649203        0.974817   \n",
            "1    -0.348369  0.696838       0.808436   0.649203        0.974817   \n",
            "2    -0.695393  0.618629      -0.916688   0.649203       -1.025834   \n",
            "3     1.386753  0.953212      -0.916688   0.649203       -1.025834   \n",
            "4     1.386753  1.057449      -0.916688  -1.540351       -1.025834   \n",
            "...        ...       ...            ...        ...             ...   \n",
            "7995  1.039728 -0.102301      -0.916688   0.649203        0.974817   \n",
            "7996 -1.389442 -1.218471      -0.916688   0.649203        0.974817   \n",
            "7997 -1.389442 -1.218471       2.533560  -1.540351       -1.025834   \n",
            "7998  1.039728  1.827259      -0.916688   0.649203       -1.025834   \n",
            "7999 -1.389442  1.149720      -0.916688   0.649203        0.974817   \n",
            "\n",
            "      EstimatedSalary  \n",
            "0            1.367670  \n",
            "1            1.661254  \n",
            "2           -0.252807  \n",
            "3            0.915393  \n",
            "4           -1.059600  \n",
            "...               ...  \n",
            "7995        -0.539860  \n",
            "7996        -1.733882  \n",
            "7997        -0.142765  \n",
            "7998        -0.050826  \n",
            "7999        -0.814568  \n",
            "\n",
            "[8000 rows x 12 columns]\n"
          ]
        }
      ]
    },
    {
      "cell_type": "code",
      "source": [
        "# Añade el termino de interseccion a X\n",
        "# (Columna de unos para X0)\n",
        "X = np.concatenate([np.ones((m, 1)), X_norm], axis=1)"
      ],
      "metadata": {
        "id": "LVNonQs1tluX"
      },
      "execution_count": 28,
      "outputs": []
    },
    {
      "cell_type": "code",
      "source": [],
      "metadata": {
        "id": "FBnTDEsBtvEj"
      },
      "execution_count": 28,
      "outputs": []
    },
    {
      "cell_type": "code",
      "metadata": {
        "id": "R075_m5sfDOX"
      },
      "source": [
        "def calcularCosto(theta, X, y):\n",
        "    # Inicializar algunos valores utiles\n",
        "    m = y.size  # numero de ejemplos de entrenamiento\n",
        "\n",
        "    J = 0\n",
        "    h = sigmoid(X.dot(theta.T))\n",
        "    J = (1 / m) * np.sum(-y.dot(np.log(h)) - (1 - y).dot(np.log(1 - h)))\n",
        "\n",
        "    return J"
      ],
      "execution_count": 29,
      "outputs": []
    },
    {
      "cell_type": "code",
      "source": [
        "def descensoGradiente(theta, X, y, alpha, num_iters):\n",
        "    # Inicializa algunos valores\n",
        "    m = y.shape[0] # numero de ejemplos de entrenamiento\n",
        "\n",
        "    # realiza una copia de theta, el cual será acutalizada por el descenso por el gradiente\n",
        "    theta = theta.copy()\n",
        "    J_history = []\n",
        "\n",
        "    for i in range(num_iters):\n",
        "        h = sigmoid(X.dot(theta.T))\n",
        "        theta = theta - (alpha / m) * (h - y).dot(X)\n",
        "\n",
        "        J_history.append(calcularCosto(theta, X, y))\n",
        "    return theta, J_history"
      ],
      "metadata": {
        "id": "scUiSgElsJBd"
      },
      "execution_count": 30,
      "outputs": []
    },
    {
      "cell_type": "code",
      "source": [
        "#Carga de dataset\n",
        "data = pd.read_csv('/content/prueva.csv')\n",
        "print(data)"
      ],
      "metadata": {
        "colab": {
          "base_uri": "https://localhost:8080/"
        },
        "id": "Du-OyFCCsMBv",
        "outputId": "11e579eb-9e61-4649-adc5-e57bc808d738"
      },
      "execution_count": 31,
      "outputs": [
        {
          "output_type": "stream",
          "name": "stdout",
          "text": [
            "      RowNumber  CustomerId  CreditScore  Geography  Gender  Age  Tenure  \\\n",
            "0          6253    15687492          596          1       1   32       3   \n",
            "1          4685    15736963          623          0       1   43       1   \n",
            "2          1732    15721730          601          2       0   44       4   \n",
            "3          4743    15762134          506          1       1   59       8   \n",
            "4          4522    15648898          560          2       0   27       7   \n",
            "...         ...         ...          ...        ...     ...  ...     ...   \n",
            "1995       6413    15598982          602          1       0   53       5   \n",
            "1996       8286    15572631          609          0       1   25      10   \n",
            "1997       7854    15746674          730          0       0   47       7   \n",
            "1998       1096    15689081          692          0       1   29       4   \n",
            "1999       6930    15651627          628          1       1   39       1   \n",
            "\n",
            "        Balance  NumOfProducts  HasCrCard  IsActiveMember  EstimatedSalary  \\\n",
            "0      96709.07              2          0               0         41788.37   \n",
            "1          0.00              2          1               1        146379.30   \n",
            "2          0.00              2          1               0         58561.31   \n",
            "3     119152.10              2          1               1        170679.74   \n",
            "4     124995.98              1          1               1        114669.79   \n",
            "...         ...            ...        ...             ...              ...   \n",
            "1995   98268.84              1          0               1         45038.29   \n",
            "1996       0.00              1          0               1        109895.16   \n",
            "1997       0.00              1          1               0         33373.26   \n",
            "1998       0.00              1          1               0         76755.99   \n",
            "1999  115341.19              1          1               1        107674.30   \n",
            "\n",
            "      Exited  \n",
            "0          0  \n",
            "1          0  \n",
            "2          0  \n",
            "3          0  \n",
            "4          0  \n",
            "...      ...  \n",
            "1995       1  \n",
            "1996       0  \n",
            "1997       1  \n",
            "1998       1  \n",
            "1999       1  \n",
            "\n",
            "[2000 rows x 13 columns]\n"
          ]
        }
      ]
    },
    {
      "cell_type": "code",
      "source": [
        "fila_deseada = 1995\n",
        "\n",
        "if fila_deseada < len(data):\n",
        "  fila_completa = data.iloc[fila_deseada].to_numpy()\n",
        "  print(fila_completa)\n",
        "else:\n",
        "  print(\"La fila no existe\")"
      ],
      "metadata": {
        "colab": {
          "base_uri": "https://localhost:8080/"
        },
        "id": "S9dghBYfsV8O",
        "outputId": "ac6ca29c-b4f1-44e6-da77-6901bbd96901"
      },
      "execution_count": 32,
      "outputs": [
        {
          "output_type": "stream",
          "name": "stdout",
          "text": [
            "[6.4130000e+03 1.5598982e+07 6.0200000e+02 1.0000000e+00 0.0000000e+00\n",
            " 5.3000000e+01 5.0000000e+00 9.8268840e+04 1.0000000e+00 0.0000000e+00\n",
            " 1.0000000e+00 4.5038290e+04 1.0000000e+00]\n"
          ]
        }
      ]
    },
    {
      "cell_type": "code",
      "source": [
        "# Elegir algun valor para alpha (probar varias alternativas)\n",
        "alpha = 0.01\n",
        "num_iters = 10000\n",
        "\n",
        "# inicializa theta y ejecuta el descenso por el gradiente\n",
        "theta = np.zeros(13)\n",
        "theta, J_history = descensoGradiente(theta, X, y, alpha, num_iters)\n",
        "\n",
        "# Grafica la convergencia del costo\n",
        "pyplot.plot(np.arange(len(J_history)), J_history, lw=2)\n",
        "pyplot.xlabel('Numero de iteraciones')\n",
        "pyplot.ylabel('Costo J')\n",
        "\n",
        "# Muestra los resultados del descenso por el gradiente\n",
        "print('theta calculado por el descenso por el gradiente: {:s}'.format(str(theta)))\n",
        "\n",
        "# verificar si ingresa o no a la universidad\n",
        "X_array = [1, 6.4130000e+03, 1.5598982e+07, 6.0200000e+02, 1.0000000e+00, 0.0000000e+00,\n",
        " 5.3000000e+01, 5.0000000e+00, 9.8268840e+04, 1.0000000e+00, 0.0000000e+00,\n",
        " 1.0000000e+00, 4.5038290e+04]\n",
        "\n",
        "aprueba = sigmoid(np.dot(X_array, theta))   # Se debe cambiar esto\n",
        "\n",
        "print(f\"Un estudiante con nota del examen 1: {X_array[1]} y nota del examen 2: {X_array[2]} (usando el descenso por el gradiente):{aprueba}\")"
      ],
      "metadata": {
        "colab": {
          "base_uri": "https://localhost:8080/",
          "height": 553
        },
        "id": "IHdF1qImsdMJ",
        "outputId": "742ac9a2-77f5-4fe3-f737-17cb50729eec"
      },
      "execution_count": 34,
      "outputs": [
        {
          "output_type": "stream",
          "name": "stdout",
          "text": [
            "theta calculado por el descenso por el gradiente: [-1.61623333 -0.04024985 -0.01154817 -0.06715939  0.08919856 -0.26904302\n",
            "  0.75543081 -0.04068539  0.30260876 -0.02700628 -0.00360234 -0.53646067\n",
            "  0.01875052]\n",
            "Un estudiante con nota del examen 1: 6413.0 y nota del examen 2: 15598982.0 (usando el descenso por el gradiente):0.0\n"
          ]
        },
        {
          "output_type": "stream",
          "name": "stderr",
          "text": [
            "<ipython-input-25-22f640bc02db>:8: RuntimeWarning: overflow encountered in exp\n",
            "  g = 1 / (1 + np.exp(-z))\n"
          ]
        },
        {
          "output_type": "display_data",
          "data": {
            "text/plain": [
              "<Figure size 640x480 with 1 Axes>"
            ],
            "image/png": "[encoded data removed]"
          },
          "metadata": {}
        }
      ]
    }
  ]
}