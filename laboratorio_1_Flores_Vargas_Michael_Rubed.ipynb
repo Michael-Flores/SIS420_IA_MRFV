{
  "nbformat": 4,
  "nbformat_minor": 0,
  "metadata": {
    "colab": {
      "provenance": []
    },
    "kernelspec": {
      "name": "python3",
      "display_name": "Python 3"
    },
    "language_info": {
      "name": "python"
    }
  },
  "cells": [
    {
      "cell_type": "code",
      "execution_count": 129,
      "metadata": {
        "id": "qUxgZvq33-ID"
      },
      "outputs": [],
      "source": [
        "# utilizado para manejos de directorios y rutas\n",
        "import os\n",
        "\n",
        "# Computacion vectorial y cientifica para python\n",
        "import numpy as np\n",
        "\n",
        "# Librerias para graficación (trazado de gráficos)\n",
        "from matplotlib import pyplot\n",
        "from mpl_toolkits.mplot3d import Axes3D  # Necesario para graficar superficies 3D\n",
        "\n",
        "# llama a matplotlib a embeber graficas dentro de los cuadernillos\n",
        "%matplotlib inline"
      ]
    },
    {
      "cell_type": "code",
      "source": [
        "import pandas as pd\n",
        "from sklearn.preprocessing import LabelEncoder\n",
        "from datetime import datetime"
      ],
      "metadata": {
        "id": "3zeLCpwjiQCT"
      },
      "execution_count": 130,
      "outputs": []
    },
    {
      "cell_type": "code",
      "source": [
        "#Carga de dataset\n",
        "data = pd.read_csv('/content/houses_soacha.csv')"
      ],
      "metadata": {
        "id": "V0ZXOA-6iUmV"
      },
      "execution_count": 131,
      "outputs": []
    },
    {
      "cell_type": "code",
      "source": [
        "print(data)"
      ],
      "metadata": {
        "colab": {
          "base_uri": "https://localhost:8080/"
        },
        "id": "h325dVhXicrs",
        "outputId": "dc61677c-d037-43b8-c5f3-358abb59ff8b"
      },
      "execution_count": 132,
      "outputs": [
        {
          "output_type": "stream",
          "name": "stdout",
          "text": [
            "     Unnamed: 0  Habitaciones  Baños  Estrato      Estado    Antigüedad  \\\n",
            "0             0           3.0    2.0      3.0       Bueno    1 a 8 años   \n",
            "1             1           2.0    1.0      2.0       Bueno   9 a 15 años   \n",
            "2             2           3.0    1.0      3.0  Remodelado    1 a 8 años   \n",
            "3             3           NaN    NaN      NaN         NaN           NaN   \n",
            "4             4           3.0    1.0      3.0  Remodelado   9 a 15 años   \n",
            "..          ...           ...    ...      ...         ...           ...   \n",
            "315         315           NaN    NaN      NaN         NaN           NaN   \n",
            "316         316           2.0    1.0      3.0       Bueno  16 a 30 años   \n",
            "317         317           3.0    2.0      3.0       Bueno    1 a 8 años   \n",
            "318         318           3.0    2.0      3.0   Excelente    1 a 8 años   \n",
            "319         319           3.0    1.0      3.0   Excelente    1 a 8 años   \n",
            "\n",
            "     Piso N° Administración          Precio m² Tipo de apartamento  \\\n",
            "0        2.0   $ 79.000 COP  $ 2.549.019,61*m²                 NaN   \n",
            "1        1.0    No definida  $ 2.545.454,55*m²                 NaN   \n",
            "2        6.0       $ 50 COP  $ 2.142.857,14*m²                 NaN   \n",
            "3        NaN            NaN                NaN                 NaN   \n",
            "4        6.0    No definida  $ 1.785.714,29*m²                Loft   \n",
            "..       ...            ...                ...                 ...   \n",
            "315      NaN            NaN                NaN                 NaN   \n",
            "316      3.0   $ 50.000 COP  $ 2.553.191,49*m²                 NaN   \n",
            "317      1.0   $ 80.000 COP  $ 2.245.901,64*m²                 NaN   \n",
            "318      2.0   $ 72.000 COP  $ 2.159.420,29*m²                 NaN   \n",
            "319      2.0    No definida  $ 2.083.333,33*m²                 NaN   \n",
            "\n",
            "    Parqueaderos     Precio Área construída (m²)  Área privada (m²)  \n",
            "0            NaN  130000000                  51                 0.0  \n",
            "1            NaN  112000000                  44                44.0  \n",
            "2            NaN  150000000                  70                64.0  \n",
            "3            NaN  152152000                  NaN                NaN  \n",
            "4            NaN  100000000                  56                56.0  \n",
            "..           ...        ...                  ...                ...  \n",
            "315          NaN  139000000                  NaN                NaN  \n",
            "316          NaN  120000000                  47                42.0  \n",
            "317          NaN  137000000                  61                61.0  \n",
            "318          NaN  149000000                  69                70.0  \n",
            "319          NaN  100000000                  48                 0.0  \n",
            "\n",
            "[320 rows x 14 columns]\n"
          ]
        }
      ]
    },
    {
      "cell_type": "code",
      "source": [
        "data.info()"
      ],
      "metadata": {
        "colab": {
          "base_uri": "https://localhost:8080/"
        },
        "id": "ZoYIJwRyifh-",
        "outputId": "daf21f87-240f-4c2f-bcd5-f23a9a2d1488"
      },
      "execution_count": 133,
      "outputs": [
        {
          "output_type": "stream",
          "name": "stdout",
          "text": [
            "<class 'pandas.core.frame.DataFrame'>\n",
            "RangeIndex: 320 entries, 0 to 319\n",
            "Data columns (total 14 columns):\n",
            " #   Column                Non-Null Count  Dtype  \n",
            "---  ------                --------------  -----  \n",
            " 0   Unnamed: 0            320 non-null    int64  \n",
            " 1   Habitaciones          239 non-null    float64\n",
            " 2   Baños                 239 non-null    float64\n",
            " 3   Estrato               239 non-null    float64\n",
            " 4   Estado                179 non-null    object \n",
            " 5   Antigüedad            210 non-null    object \n",
            " 6   Piso N°               187 non-null    float64\n",
            " 7   Administración        239 non-null    object \n",
            " 8   Precio m²             239 non-null    object \n",
            " 9   Tipo de apartamento   22 non-null     object \n",
            " 10  Parqueaderos          32 non-null     object \n",
            " 11  Precio                320 non-null    int64  \n",
            " 12  Área construída (m²)  239 non-null    object \n",
            " 13  Área privada (m²)     239 non-null    float64\n",
            "dtypes: float64(5), int64(2), object(7)\n",
            "memory usage: 35.1+ KB\n"
          ]
        }
      ]
    },
    {
      "cell_type": "code",
      "source": [
        "columnas_eliminar = ['Administración','Precio m²']\n",
        "simbolo = '$'\n",
        "simbolo2='*m²'\n",
        "simbolo3='COP'\n",
        "columnas_eliminar2=['Precio m²']\n",
        "simbolo4='.'\n",
        "simbolo5=','\n",
        "for columna in columnas_eliminar:\n",
        "    data[columna] = data[columna].str.replace(simbolo, '', regex=False)\n",
        "    data[columna] = data[columna].str.replace(simbolo2, '', regex=False)\n",
        "    data[columna] = data[columna].str.replace(simbolo3, '', regex=False)\n",
        "for columna2 in columnas_eliminar2:\n",
        "    data[columna2] = data[columna2].str.replace(simbolo4, '', regex=False)\n",
        "    data[columna2] = data[columna2].str.replace(simbolo5, '.', regex=False)"
      ],
      "metadata": {
        "id": "HcW3ITuoi4aw"
      },
      "execution_count": 134,
      "outputs": []
    },
    {
      "cell_type": "code",
      "source": [
        "print(data)"
      ],
      "metadata": {
        "colab": {
          "base_uri": "https://localhost:8080/"
        },
        "id": "CDcJv73OABpB",
        "outputId": "2621a19e-346b-4070-c0a6-67dc88fc463f"
      },
      "execution_count": 135,
      "outputs": [
        {
          "output_type": "stream",
          "name": "stdout",
          "text": [
            "     Unnamed: 0  Habitaciones  Baños  Estrato      Estado    Antigüedad  \\\n",
            "0             0           3.0    2.0      3.0       Bueno    1 a 8 años   \n",
            "1             1           2.0    1.0      2.0       Bueno   9 a 15 años   \n",
            "2             2           3.0    1.0      3.0  Remodelado    1 a 8 años   \n",
            "3             3           NaN    NaN      NaN         NaN           NaN   \n",
            "4             4           3.0    1.0      3.0  Remodelado   9 a 15 años   \n",
            "..          ...           ...    ...      ...         ...           ...   \n",
            "315         315           NaN    NaN      NaN         NaN           NaN   \n",
            "316         316           2.0    1.0      3.0       Bueno  16 a 30 años   \n",
            "317         317           3.0    2.0      3.0       Bueno    1 a 8 años   \n",
            "318         318           3.0    2.0      3.0   Excelente    1 a 8 años   \n",
            "319         319           3.0    1.0      3.0   Excelente    1 a 8 años   \n",
            "\n",
            "     Piso N° Administración    Precio m² Tipo de apartamento Parqueaderos  \\\n",
            "0        2.0        79.000    2549019.61                 NaN          NaN   \n",
            "1        1.0    No definida   2545454.55                 NaN          NaN   \n",
            "2        6.0            50    2142857.14                 NaN          NaN   \n",
            "3        NaN            NaN          NaN                 NaN          NaN   \n",
            "4        6.0    No definida   1785714.29                Loft          NaN   \n",
            "..       ...            ...          ...                 ...          ...   \n",
            "315      NaN            NaN          NaN                 NaN          NaN   \n",
            "316      3.0        50.000    2553191.49                 NaN          NaN   \n",
            "317      1.0        80.000    2245901.64                 NaN          NaN   \n",
            "318      2.0        72.000    2159420.29                 NaN          NaN   \n",
            "319      2.0    No definida   2083333.33                 NaN          NaN   \n",
            "\n",
            "        Precio Área construída (m²)  Área privada (m²)  \n",
            "0    130000000                  51                 0.0  \n",
            "1    112000000                  44                44.0  \n",
            "2    150000000                  70                64.0  \n",
            "3    152152000                  NaN                NaN  \n",
            "4    100000000                  56                56.0  \n",
            "..         ...                  ...                ...  \n",
            "315  139000000                  NaN                NaN  \n",
            "316  120000000                  47                42.0  \n",
            "317  137000000                  61                61.0  \n",
            "318  149000000                  69                70.0  \n",
            "319  100000000                  48                 0.0  \n",
            "\n",
            "[320 rows x 14 columns]\n"
          ]
        }
      ]
    },
    {
      "cell_type": "code",
      "source": [
        "data.info()"
      ],
      "metadata": {
        "colab": {
          "base_uri": "https://localhost:8080/"
        },
        "id": "MJR_ngQEAFSz",
        "outputId": "0e102729-6155-4eeb-bef0-350555c395f2"
      },
      "execution_count": 136,
      "outputs": [
        {
          "output_type": "stream",
          "name": "stdout",
          "text": [
            "<class 'pandas.core.frame.DataFrame'>\n",
            "RangeIndex: 320 entries, 0 to 319\n",
            "Data columns (total 14 columns):\n",
            " #   Column                Non-Null Count  Dtype  \n",
            "---  ------                --------------  -----  \n",
            " 0   Unnamed: 0            320 non-null    int64  \n",
            " 1   Habitaciones          239 non-null    float64\n",
            " 2   Baños                 239 non-null    float64\n",
            " 3   Estrato               239 non-null    float64\n",
            " 4   Estado                179 non-null    object \n",
            " 5   Antigüedad            210 non-null    object \n",
            " 6   Piso N°               187 non-null    float64\n",
            " 7   Administración        239 non-null    object \n",
            " 8   Precio m²             239 non-null    object \n",
            " 9   Tipo de apartamento   22 non-null     object \n",
            " 10  Parqueaderos          32 non-null     object \n",
            " 11  Precio                320 non-null    int64  \n",
            " 12  Área construída (m²)  239 non-null    object \n",
            " 13  Área privada (m²)     239 non-null    float64\n",
            "dtypes: float64(5), int64(2), object(7)\n",
            "memory usage: 35.1+ KB\n"
          ]
        }
      ]
    },
    {
      "cell_type": "code",
      "source": [
        "\n",
        "# Supongamos que 'data' es tu DataFrame\n",
        "columna_categorica = 'Administración'\n",
        "columna_precio='Precio m²'\n",
        "columna_numerica = 'administrador'\n",
        "columna_pre='Preciom2'\n",
        "\n",
        "# Crea una nueva columna numérica y copia los valores de la columna categórica y precio\n",
        "data[columna_numerica] = pd.to_numeric(data[columna_categorica], errors='coerce')\n",
        "data[columna_pre] = pd.to_numeric(data[columna_precio], errors='coerce')\n",
        "\n",
        "# Elimina la columna categórica original y precio\n",
        "data.drop(columna_categorica, axis=1, inplace=True)\n",
        "data.drop(columna_precio, axis=1, inplace=True)"
      ],
      "metadata": {
        "id": "iFCu2N4YuhfQ"
      },
      "execution_count": 137,
      "outputs": []
    },
    {
      "cell_type": "code",
      "source": [
        "data.info()"
      ],
      "metadata": {
        "colab": {
          "base_uri": "https://localhost:8080/"
        },
        "id": "VpbiDOZmjHzw",
        "outputId": "0bea8920-ab87-47bc-dfe6-ecfebc487615"
      },
      "execution_count": 138,
      "outputs": [
        {
          "output_type": "stream",
          "name": "stdout",
          "text": [
            "<class 'pandas.core.frame.DataFrame'>\n",
            "RangeIndex: 320 entries, 0 to 319\n",
            "Data columns (total 14 columns):\n",
            " #   Column                Non-Null Count  Dtype  \n",
            "---  ------                --------------  -----  \n",
            " 0   Unnamed: 0            320 non-null    int64  \n",
            " 1   Habitaciones          239 non-null    float64\n",
            " 2   Baños                 239 non-null    float64\n",
            " 3   Estrato               239 non-null    float64\n",
            " 4   Estado                179 non-null    object \n",
            " 5   Antigüedad            210 non-null    object \n",
            " 6   Piso N°               187 non-null    float64\n",
            " 7   Tipo de apartamento   22 non-null     object \n",
            " 8   Parqueaderos          32 non-null     object \n",
            " 9   Precio                320 non-null    int64  \n",
            " 10  Área construída (m²)  239 non-null    object \n",
            " 11  Área privada (m²)     239 non-null    float64\n",
            " 12  administrador         135 non-null    float64\n",
            " 13  Preciom2              239 non-null    float64\n",
            "dtypes: float64(7), int64(2), object(5)\n",
            "memory usage: 35.1+ KB\n"
          ]
        }
      ]
    },
    {
      "cell_type": "code",
      "source": [
        "#variables categoricas\n",
        "columnas_categoricas = data.select_dtypes(include=['object']).columns\n",
        "#variables fechas\n",
        "columnas_fechas = data.select_dtypes(include=['datetime64']).columns"
      ],
      "metadata": {
        "id": "sFmWfM7Mjn9Z"
      },
      "execution_count": 139,
      "outputs": []
    },
    {
      "cell_type": "code",
      "source": [
        "#Procesamiento de frases o palabras\n",
        "for columna in columnas_categoricas:\n",
        "  le = LabelEncoder()\n",
        "  data[columna] = le.fit_transform(data[columna])"
      ],
      "metadata": {
        "id": "GcxRaOoqkOyD"
      },
      "execution_count": 140,
      "outputs": []
    },
    {
      "cell_type": "code",
      "source": [
        "#Fechas a numeros\n",
        "for columna in columnas_fechas:\n",
        "  data[columna] = pd.to_numeric(data[columna].map(datetime.timestamp))"
      ],
      "metadata": {
        "id": "hVuep7WXkQvA"
      },
      "execution_count": 141,
      "outputs": []
    },
    {
      "cell_type": "code",
      "source": [
        "#resultado\n",
        "print(data)"
      ],
      "metadata": {
        "colab": {
          "base_uri": "https://localhost:8080/"
        },
        "id": "vHzN_Uj0kS96",
        "outputId": "960b2089-283a-4bc2-e91d-b8c8624692d5"
      },
      "execution_count": 142,
      "outputs": [
        {
          "output_type": "stream",
          "name": "stdout",
          "text": [
            "     Unnamed: 0  Habitaciones  Baños  Estrato  Estado  Antigüedad  Piso N°  \\\n",
            "0             0           3.0    2.0      3.0       0           0      2.0   \n",
            "1             1           2.0    1.0      2.0       0           2      1.0   \n",
            "2             2           3.0    1.0      3.0       2           0      6.0   \n",
            "3             3           NaN    NaN      NaN       3           5      NaN   \n",
            "4             4           3.0    1.0      3.0       2           2      6.0   \n",
            "..          ...           ...    ...      ...     ...         ...      ...   \n",
            "315         315           NaN    NaN      NaN       3           5      NaN   \n",
            "316         316           2.0    1.0      3.0       0           1      3.0   \n",
            "317         317           3.0    2.0      3.0       0           0      1.0   \n",
            "318         318           3.0    2.0      3.0       1           0      2.0   \n",
            "319         319           3.0    1.0      3.0       1           0      2.0   \n",
            "\n",
            "     Tipo de apartamento  Parqueaderos     Precio  Área construída (m²)  \\\n",
            "0                      1             2  130000000                    14   \n",
            "1                      1             2  112000000                     6   \n",
            "2                      1             2  150000000                    31   \n",
            "3                      1             2  152152000                    34   \n",
            "4                      0             2  100000000                    20   \n",
            "..                   ...           ...        ...                   ...   \n",
            "315                    1             2  139000000                    34   \n",
            "316                    1             2  120000000                     9   \n",
            "317                    1             2  137000000                    26   \n",
            "318                    1             2  149000000                    30   \n",
            "319                    1             2  100000000                    10   \n",
            "\n",
            "     Área privada (m²)  administrador    Preciom2  \n",
            "0                  0.0           79.0  2549019.61  \n",
            "1                 44.0            NaN  2545454.55  \n",
            "2                 64.0           50.0  2142857.14  \n",
            "3                  NaN            NaN         NaN  \n",
            "4                 56.0            NaN  1785714.29  \n",
            "..                 ...            ...         ...  \n",
            "315                NaN            NaN         NaN  \n",
            "316               42.0           50.0  2553191.49  \n",
            "317               61.0           80.0  2245901.64  \n",
            "318               70.0           72.0  2159420.29  \n",
            "319                0.0            NaN  2083333.33  \n",
            "\n",
            "[320 rows x 14 columns]\n"
          ]
        }
      ]
    },
    {
      "cell_type": "code",
      "source": [
        "data.info()"
      ],
      "metadata": {
        "colab": {
          "base_uri": "https://localhost:8080/"
        },
        "id": "tJ9GFsACksGy",
        "outputId": "9496b779-8b61-41b7-efdf-21ce344cea51"
      },
      "execution_count": 143,
      "outputs": [
        {
          "output_type": "stream",
          "name": "stdout",
          "text": [
            "<class 'pandas.core.frame.DataFrame'>\n",
            "RangeIndex: 320 entries, 0 to 319\n",
            "Data columns (total 14 columns):\n",
            " #   Column                Non-Null Count  Dtype  \n",
            "---  ------                --------------  -----  \n",
            " 0   Unnamed: 0            320 non-null    int64  \n",
            " 1   Habitaciones          239 non-null    float64\n",
            " 2   Baños                 239 non-null    float64\n",
            " 3   Estrato               239 non-null    float64\n",
            " 4   Estado                320 non-null    int64  \n",
            " 5   Antigüedad            320 non-null    int64  \n",
            " 6   Piso N°               187 non-null    float64\n",
            " 7   Tipo de apartamento   320 non-null    int64  \n",
            " 8   Parqueaderos          320 non-null    int64  \n",
            " 9   Precio                320 non-null    int64  \n",
            " 10  Área construída (m²)  320 non-null    int64  \n",
            " 11  Área privada (m²)     239 non-null    float64\n",
            " 12  administrador         135 non-null    float64\n",
            " 13  Preciom2              239 non-null    float64\n",
            "dtypes: float64(7), int64(7)\n",
            "memory usage: 35.1 KB\n"
          ]
        }
      ]
    },
    {
      "cell_type": "code",
      "source": [
        "#llenar datos vacios\n",
        "columnas_especificas = ['Habitaciones', 'Baños','Estrato','Piso N°','Área privada (m²)','administrador','Preciom2']\n",
        "media_columnas = data[columnas_especificas].mean()\n",
        "data[columnas_especificas] = data[columnas_especificas].fillna(media_columnas)"
      ],
      "metadata": {
        "id": "aL01HjE1tMNP"
      },
      "execution_count": 144,
      "outputs": []
    },
    {
      "cell_type": "code",
      "source": [
        "data.info()"
      ],
      "metadata": {
        "colab": {
          "base_uri": "https://localhost:8080/"
        },
        "id": "IZheY0q7lvQg",
        "outputId": "ba099644-fd0b-48a4-f182-4c60448aeb6d"
      },
      "execution_count": 145,
      "outputs": [
        {
          "output_type": "stream",
          "name": "stdout",
          "text": [
            "<class 'pandas.core.frame.DataFrame'>\n",
            "RangeIndex: 320 entries, 0 to 319\n",
            "Data columns (total 14 columns):\n",
            " #   Column                Non-Null Count  Dtype  \n",
            "---  ------                --------------  -----  \n",
            " 0   Unnamed: 0            320 non-null    int64  \n",
            " 1   Habitaciones          320 non-null    float64\n",
            " 2   Baños                 320 non-null    float64\n",
            " 3   Estrato               320 non-null    float64\n",
            " 4   Estado                320 non-null    int64  \n",
            " 5   Antigüedad            320 non-null    int64  \n",
            " 6   Piso N°               320 non-null    float64\n",
            " 7   Tipo de apartamento   320 non-null    int64  \n",
            " 8   Parqueaderos          320 non-null    int64  \n",
            " 9   Precio                320 non-null    int64  \n",
            " 10  Área construída (m²)  320 non-null    int64  \n",
            " 11  Área privada (m²)     320 non-null    float64\n",
            " 12  administrador         320 non-null    float64\n",
            " 13  Preciom2              320 non-null    float64\n",
            "dtypes: float64(7), int64(7)\n",
            "memory usage: 35.1 KB\n"
          ]
        }
      ]
    },
    {
      "cell_type": "code",
      "source": [
        "# Lectura de Datos\n",
        "X = data.iloc[:, :13]\n",
        "y = data.iloc[:, 13]\n",
        "m = y.size"
      ],
      "metadata": {
        "id": "YuuRUXgCwvZ_"
      },
      "execution_count": 146,
      "outputs": []
    },
    {
      "cell_type": "code",
      "source": [
        "print(X)\n",
        "print('*'*25)\n",
        "print(y)"
      ],
      "metadata": {
        "colab": {
          "base_uri": "https://localhost:8080/"
        },
        "id": "x1NBC6A6xFoC",
        "outputId": "9650f502-246c-4b29-96fa-f9a8bdfeb309"
      },
      "execution_count": 147,
      "outputs": [
        {
          "output_type": "stream",
          "name": "stdout",
          "text": [
            "     Unnamed: 0  Habitaciones     Baños   Estrato  Estado  Antigüedad  \\\n",
            "0             0      3.000000  2.000000  3.000000       0           0   \n",
            "1             1      2.000000  1.000000  2.000000       0           2   \n",
            "2             2      3.000000  1.000000  3.000000       2           0   \n",
            "3             3      2.753138  1.389121  2.707113       3           5   \n",
            "4             4      3.000000  1.000000  3.000000       2           2   \n",
            "..          ...           ...       ...       ...     ...         ...   \n",
            "315         315      2.753138  1.389121  2.707113       3           5   \n",
            "316         316      2.000000  1.000000  3.000000       0           1   \n",
            "317         317      3.000000  2.000000  3.000000       0           0   \n",
            "318         318      3.000000  2.000000  3.000000       1           0   \n",
            "319         319      3.000000  1.000000  3.000000       1           0   \n",
            "\n",
            "      Piso N°  Tipo de apartamento  Parqueaderos     Precio  \\\n",
            "0    2.000000                    1             2  130000000   \n",
            "1    1.000000                    1             2  112000000   \n",
            "2    6.000000                    1             2  150000000   \n",
            "3    3.315508                    1             2  152152000   \n",
            "4    6.000000                    0             2  100000000   \n",
            "..        ...                  ...           ...        ...   \n",
            "315  3.315508                    1             2  139000000   \n",
            "316  3.000000                    1             2  120000000   \n",
            "317  1.000000                    1             2  137000000   \n",
            "318  2.000000                    1             2  149000000   \n",
            "319  2.000000                    1             2  100000000   \n",
            "\n",
            "     Área construída (m²)  Área privada (m²)  administrador  \n",
            "0                      14            0.00000      79.000000  \n",
            "1                       6           44.00000      66.631852  \n",
            "2                      31           64.00000      50.000000  \n",
            "3                      34           38.32636      66.631852  \n",
            "4                      20           56.00000      66.631852  \n",
            "..                    ...                ...            ...  \n",
            "315                    34           38.32636      66.631852  \n",
            "316                     9           42.00000      50.000000  \n",
            "317                    26           61.00000      80.000000  \n",
            "318                    30           70.00000      72.000000  \n",
            "319                    10            0.00000      66.631852  \n",
            "\n",
            "[320 rows x 13 columns]\n",
            "*************************\n",
            "0      2.549020e+06\n",
            "1      2.545455e+06\n",
            "2      2.142857e+06\n",
            "3      2.265630e+06\n",
            "4      1.785714e+06\n",
            "           ...     \n",
            "315    2.265630e+06\n",
            "316    2.553191e+06\n",
            "317    2.245902e+06\n",
            "318    2.159420e+06\n",
            "319    2.083333e+06\n",
            "Name: Preciom2, Length: 320, dtype: float64\n"
          ]
        }
      ]
    },
    {
      "cell_type": "code",
      "source": [
        "def  featureNormalize(X):\n",
        "    X_norm = X.copy()\n",
        "    mu = np.zeros(X.shape[1])\n",
        "    sigma = np.zeros(X.shape[1])\n",
        "\n",
        "    mu = np.mean(X, axis = 0)\n",
        "    sigma = np.std(X, axis = 0)\n",
        "    X_norm = (X - mu) / sigma\n",
        "\n",
        "    return X_norm, mu, sigma"
      ],
      "metadata": {
        "id": "DrrFytt2gkI8"
      },
      "execution_count": 148,
      "outputs": []
    },
    {
      "cell_type": "code",
      "source": [
        "# llama featureNormalize con los datos cargados\n",
        "X_norm, mu, sigma = featureNormalize(X)\n",
        "\n",
        "print(X)\n",
        "print('Media calculada:', mu)\n",
        "print('Desviación estandar calculada:', sigma)\n",
        "print(X_norm)"
      ],
      "metadata": {
        "colab": {
          "base_uri": "https://localhost:8080/"
        },
        "id": "MhHhItqc4YLy",
        "outputId": "b7236c76-6e63-4635-cf86-85fdfc6dcb39"
      },
      "execution_count": 149,
      "outputs": [
        {
          "output_type": "stream",
          "name": "stdout",
          "text": [
            "     Unnamed: 0  Habitaciones     Baños   Estrato  Estado  Antigüedad  \\\n",
            "0             0      3.000000  2.000000  3.000000       0           0   \n",
            "1             1      2.000000  1.000000  2.000000       0           2   \n",
            "2             2      3.000000  1.000000  3.000000       2           0   \n",
            "3             3      2.753138  1.389121  2.707113       3           5   \n",
            "4             4      3.000000  1.000000  3.000000       2           2   \n",
            "..          ...           ...       ...       ...     ...         ...   \n",
            "315         315      2.753138  1.389121  2.707113       3           5   \n",
            "316         316      2.000000  1.000000  3.000000       0           1   \n",
            "317         317      3.000000  2.000000  3.000000       0           0   \n",
            "318         318      3.000000  2.000000  3.000000       1           0   \n",
            "319         319      3.000000  1.000000  3.000000       1           0   \n",
            "\n",
            "      Piso N°  Tipo de apartamento  Parqueaderos     Precio  \\\n",
            "0    2.000000                    1             2  130000000   \n",
            "1    1.000000                    1             2  112000000   \n",
            "2    6.000000                    1             2  150000000   \n",
            "3    3.315508                    1             2  152152000   \n",
            "4    6.000000                    0             2  100000000   \n",
            "..        ...                  ...           ...        ...   \n",
            "315  3.315508                    1             2  139000000   \n",
            "316  3.000000                    1             2  120000000   \n",
            "317  1.000000                    1             2  137000000   \n",
            "318  2.000000                    1             2  149000000   \n",
            "319  2.000000                    1             2  100000000   \n",
            "\n",
            "     Área construída (m²)  Área privada (m²)  administrador  \n",
            "0                      14            0.00000      79.000000  \n",
            "1                       6           44.00000      66.631852  \n",
            "2                      31           64.00000      50.000000  \n",
            "3                      34           38.32636      66.631852  \n",
            "4                      20           56.00000      66.631852  \n",
            "..                    ...                ...            ...  \n",
            "315                    34           38.32636      66.631852  \n",
            "316                     9           42.00000      50.000000  \n",
            "317                    26           61.00000      80.000000  \n",
            "318                    30           70.00000      72.000000  \n",
            "319                    10            0.00000      66.631852  \n",
            "\n",
            "[320 rows x 13 columns]\n",
            "Media calculada: Unnamed: 0              1.595000e+02\n",
            "Habitaciones            2.753138e+00\n",
            "Baños                   1.389121e+00\n",
            "Estrato                 2.707113e+00\n",
            "Estado                  1.721875e+00\n",
            "Antigüedad              2.190625e+00\n",
            "Piso N°                 3.315508e+00\n",
            "Tipo de apartamento     9.312500e-01\n",
            "Parqueaderos            1.818750e+00\n",
            "Precio                  1.188380e+08\n",
            "Área construída (m²)    1.878125e+01\n",
            "Área privada (m²)       3.832636e+01\n",
            "administrador           6.663185e+01\n",
            "dtype: float64\n",
            "Desviación estandar calculada: Unnamed: 0              9.237559e+01\n",
            "Habitaciones            3.970010e-01\n",
            "Baños                   4.287034e-01\n",
            "Estrato                 4.857273e-01\n",
            "Estado                  1.230151e+00\n",
            "Antigüedad              2.170377e+00\n",
            "Piso N°                 1.358291e+00\n",
            "Tipo de apartamento     2.530285e-01\n",
            "Parqueaderos            5.575827e-01\n",
            "Precio                  2.431098e+07\n",
            "Área construída (m²)    1.174929e+01\n",
            "Área privada (m²)       1.926627e+01\n",
            "administrador           1.115694e+01\n",
            "dtype: float64\n",
            "     Unnamed: 0  Habitaciones         Baños   Estrato    Estado  Antigüedad  \\\n",
            "0     -1.726647      0.621817  1.424945e+00  0.602987 -1.399727   -1.009329   \n",
            "1     -1.715821     -1.897068 -9.076703e-01 -1.455782 -1.399727   -0.087830   \n",
            "2     -1.704996      0.621817 -9.076703e-01  0.602987  0.226090   -1.009329   \n",
            "3     -1.694170      0.000000  5.179446e-16  0.000000  1.038998    1.294418   \n",
            "4     -1.683345      0.621817 -9.076703e-01  0.602987  0.226090   -0.087830   \n",
            "..          ...           ...           ...       ...       ...         ...   \n",
            "315    1.683345      0.000000  5.179446e-16  0.000000  1.038998    1.294418   \n",
            "316    1.694170     -1.897068 -9.076703e-01  0.602987 -1.399727   -0.548580   \n",
            "317    1.704996      0.621817  1.424945e+00  0.602987 -1.399727   -1.009329   \n",
            "318    1.715821      0.621817  1.424945e+00  0.602987 -0.586818   -1.009329   \n",
            "319    1.726647      0.621817 -9.076703e-01  0.602987 -0.586818   -1.009329   \n",
            "\n",
            "      Piso N°  Tipo de apartamento  Parqueaderos    Precio  \\\n",
            "0   -0.968503             0.271708      0.325064  0.459133   \n",
            "1   -1.704722             0.271708      0.325064 -0.281273   \n",
            "2    1.976375             0.271708      0.325064  1.281807   \n",
            "3    0.000000             0.271708      0.325064  1.370326   \n",
            "4    1.976375            -3.680415      0.325064 -0.774878   \n",
            "..        ...                  ...           ...       ...   \n",
            "315  0.000000             0.271708      0.325064  0.829336   \n",
            "316 -0.232283             0.271708      0.325064  0.047796   \n",
            "317 -1.704722             0.271708      0.325064  0.747069   \n",
            "318 -0.968503             0.271708      0.325064  1.240673   \n",
            "319 -0.968503             0.271708      0.325064 -0.774878   \n",
            "\n",
            "     Área construída (m²)  Área privada (m²)  administrador  \n",
            "0               -0.406939      -1.989298e+00       1.108561  \n",
            "1               -1.087831       2.944856e-01       0.000000  \n",
            "2                1.039956       1.332569e+00      -1.490719  \n",
            "3                1.295291      -3.688014e-16       0.000000  \n",
            "4                0.103730       9.173358e-01       0.000000  \n",
            "..                    ...                ...            ...  \n",
            "315              1.295291      -3.688014e-16       0.000000  \n",
            "316             -0.832497       1.906773e-01      -1.490719  \n",
            "317              0.614399       1.176857e+00       1.198192  \n",
            "318              0.954845       1.643994e+00       0.481149  \n",
            "319             -0.747385      -1.989298e+00       0.000000  \n",
            "\n",
            "[320 rows x 13 columns]\n"
          ]
        }
      ]
    },
    {
      "cell_type": "code",
      "source": [
        "# Añade el termino de interseccion a X\n",
        "# (Columna de unos para X0)\n",
        "X = np.concatenate([np.ones((m, 1)), X_norm], axis=1)"
      ],
      "metadata": {
        "id": "EB4cCmdm4bxJ"
      },
      "execution_count": 150,
      "outputs": []
    },
    {
      "cell_type": "code",
      "source": [
        "print(X)"
      ],
      "metadata": {
        "colab": {
          "base_uri": "https://localhost:8080/"
        },
        "id": "jxdWrQDC4fcD",
        "outputId": "5c187b06-8932-4274-e436-d28fc92d2d1e"
      },
      "execution_count": 151,
      "outputs": [
        {
          "output_type": "stream",
          "name": "stdout",
          "text": [
            "[[ 1.         -1.72664658  0.62181681 ... -0.40693936 -1.98929828\n",
            "   1.10856133]\n",
            " [ 1.         -1.71582121 -1.89706823 ... -1.08783136  0.29448564\n",
            "   0.        ]\n",
            " [ 1.         -1.70499584  0.62181681 ...  1.03995614  1.33256924\n",
            "  -1.49071854]\n",
            " ...\n",
            " [ 1.          1.70499584  0.62181681 ...  0.61439864  1.1768567\n",
            "   1.19819167]\n",
            " [ 1.          1.71582121  0.62181681 ...  0.95484464  1.64399432\n",
            "   0.48114895]\n",
            " [ 1.          1.72664658  0.62181681 ... -0.74738536 -1.98929828\n",
            "   0.        ]]\n"
          ]
        }
      ]
    },
    {
      "cell_type": "code",
      "source": [
        "def computeCostMulti(X, y, theta):\n",
        "    # Inicializa algunos valores utiles\n",
        "    m = y.shape[0] # numero de ejemplos de entrenamiento\n",
        "\n",
        "    J = 0\n",
        "\n",
        "    h = np.dot(X, theta)\n",
        "\n",
        "    J = (1/(2 * m)) * np.sum(np.square(np.dot(X, theta) - y))\n",
        "\n",
        "    return J\n"
      ],
      "metadata": {
        "id": "is_NER384kX5"
      },
      "execution_count": 152,
      "outputs": []
    },
    {
      "cell_type": "code",
      "source": [
        "def gradientDescentMulti(X, y, theta, alpha, num_iters):\n",
        "\n",
        "    # Inicializa algunos valores\n",
        "    m = y.shape[0] # numero de ejemplos de entrenamiento\n",
        "\n",
        "    # realiza una copia de theta, el cual será acutalizada por el descenso por el gradiente\n",
        "    theta = theta.copy()\n",
        "\n",
        "    J_history = []\n",
        "\n",
        "    for i in range(num_iters):\n",
        "        theta = theta - (alpha / m) * (np.dot(X, theta) - y).dot(X)\n",
        "        J_history.append(computeCostMulti(X, y, theta))\n",
        "\n",
        "    return theta, J_history"
      ],
      "metadata": {
        "id": "NTic99Il4k9H"
      },
      "execution_count": 153,
      "outputs": []
    },
    {
      "cell_type": "code",
      "source": [
        "# Elegir algun valor para alpha (probar varias alternativas)\n",
        "alpha = 0.002\n",
        "num_iters = 5000\n",
        "\n",
        "# inicializa theta y ejecuta el descenso por el gradiente\n",
        "theta = np.zeros(14)\n",
        "theta, J_history = gradientDescentMulti(X, y, theta, alpha, num_iters)\n",
        "\n",
        "# Grafica la convergencia del costo\n",
        "pyplot.plot(np.arange(len(J_history)), J_history, lw=2)\n",
        "pyplot.xlabel('Numero de iteraciones')\n",
        "pyplot.ylabel('Costo J')\n",
        "\n",
        "# Muestra los resultados del descenso por el gradiente\n",
        "print('theta calculado por el descenso por el gradiente: {:s}'.format(str(theta)))\n",
        "\n",
        "# Estimar el precio para un Apartamentos\n",
        "X_array = [1, 2, 130, 1, 2, 3, 5, 92700, 28900000, 2, 0, 15600000, 80,50]\n",
        "X_array[1:14] = (X_array[1:14] - mu) / sigma\n",
        "price = np.dot(X_array, theta)   # Se debe cambiar esto\n",
        "\n",
        "print('El valor predecido es (usando el descenso por el gradiente): {:.4f}'.format(price))"
      ],
      "metadata": {
        "colab": {
          "base_uri": "https://localhost:8080/",
          "height": 552
        },
        "id": "2sc2AmKF4qJQ",
        "outputId": "b61c376e-48c5-4300-ecd6-e5b48d100dff"
      },
      "execution_count": 154,
      "outputs": [
        {
          "output_type": "stream",
          "name": "stdout",
          "text": [
            "theta calculado por el descenso por el gradiente: [2265528.40298991  -10300.67556805  -33472.38497362    4910.54368702\n",
            "   37021.32143792   21058.33214239   57280.94385882  -21282.72442218\n",
            "   29773.63368636  -11564.38824962  205193.2056921  -167704.47968344\n",
            "  -37510.46756172   42047.59707344]\n",
            "El valor predecido es (usando el descenso por el gradiente): 3176506636215.7739\n"
          ]
        },
        {
          "output_type": "display_data",
          "data": {
            "text/plain": [
              "<Figure size 640x480 with 1 Axes>"
            ],
            "image/png": "[encoded data removed]"
          },
          "metadata": {}
        }
      ]
    }
  ]
}