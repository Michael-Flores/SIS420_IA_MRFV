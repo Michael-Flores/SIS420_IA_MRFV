{
  "nbformat": 4,
  "nbformat_minor": 0,
  "metadata": {
    "colab": {
      "provenance": []
    },
    "kernelspec": {
      "name": "python3",
      "display_name": "Python 3"
    },
    "language_info": {
      "name": "python"
    }
  },
  "cells": [
    {
      "cell_type": "code",
      "execution_count": null,
      "metadata": {
        "id": "n6Y_BNiQnbfL"
      },
      "outputs": [],
      "source": [
        "#Flores Vargas Michael Rubed\n",
        "\n",
        "#Rutas de distribución: encontrar las rutas de entrega óptimas para una flota de vehículos\n",
        "import random\n",
        "import math\n",
        "\n",
        "ciudades = ['A','B','C','D','E','F']\n",
        "\n",
        "distancias = {\n",
        "   'A-B': 5,\n",
        "  'A-C': 10,\n",
        "  'A-D': 8,\n",
        "  'A-E': 7,\n",
        "  'B-C': 6,\n",
        "  'B-D': 3,\n",
        "  'B-E': 9,\n",
        "  'B-F': 4,\n",
        "  'C-D': 2,\n",
        "  'C-E': 5,\n",
        "  'C-F': 7,\n",
        "  'D-E': 6,\n",
        "  'D-F': 10,\n",
        "  'E-F': 9\n",
        "}\n",
        "\n"
      ]
    },
    {
      "cell_type": "code",
      "source": [
        "def crear_ruta():\n",
        "  ruta = random.sample(ciudades, len(ciudades))\n",
        "  return ruta\n",
        "\n",
        "def aptitud(ruta):\n",
        "  distancia = 0\n",
        "  for i in range(len(ruta)):\n",
        "\n",
        "    origen = ruta[i]\n",
        "\n",
        "    if i+1 < len(ruta):\n",
        "      destino = ruta[i+1]\n",
        "    else:\n",
        "      destino = ruta[0]\n",
        "\n",
        "    clave = origen+'-'+destino\n",
        "    if clave in distancias:\n",
        "      distancia += distancias[clave]\n",
        "\n",
        "  return 1 / (1 + distancia)\n",
        "\n"
      ],
      "metadata": {
        "id": "xxU11WkAP4DF"
      },
      "execution_count": null,
      "outputs": []
    },
    {
      "cell_type": "code",
      "source": [
        "def seleccion(poblacion):\n",
        "\n",
        "  aptitudes = [aptitud(x) for x in poblacion]\n",
        "  return random.choices(poblacion, weights=aptitudes, k=2)\n",
        "def cruce(padres):\n",
        "  pto_cruce = random.randint(1, len(padres[0])-1)\n",
        "  hijo1 = padres[0][0:pto_cruce] + padres[1][pto_cruce::]\n",
        "  hijo2 = padres[1][0:pto_cruce] + padres[0][pto_cruce::]\n",
        "  return [hijo1, hijo2]"
      ],
      "metadata": {
        "id": "-_NEe_6CQDur"
      },
      "execution_count": null,
      "outputs": []
    },
    {
      "cell_type": "code",
      "source": [
        "def mutacion(individuo, prob_mutacion=0.2):\n",
        "  if random.random() < prob_mutacion:\n",
        "    pto_mut1 = random.randint(0, len(individuo)-1)\n",
        "    pto_mut2 = random.randint(0, len(individuo)-1)\n",
        "    individuo[pto_mut1], individuo[pto_mut2] = individuo[pto_mut2], individuo[pto_mut1]\n",
        "  return individuo\n"
      ],
      "metadata": {
        "id": "HMrkGaHBQOhC"
      },
      "execution_count": null,
      "outputs": []
    },
    {
      "cell_type": "code",
      "source": [
        "def ruta_optima(poblacion):\n",
        "  mejor_ruta = None\n",
        "  mejor_aptitud = -1\n",
        "\n",
        "  for ruta in poblacion:\n",
        "    aptitud_ruta = aptitud(ruta)\n",
        "    if aptitud_ruta > mejor_aptitud:\n",
        "      mejor_aptitud = aptitud_ruta\n",
        "      mejor_ruta = ruta\n",
        "\n",
        "  return mejor_ruta\n"
      ],
      "metadata": {
        "id": "NLe87XEEQTOn"
      },
      "execution_count": null,
      "outputs": []
    },
    {
      "cell_type": "code",
      "source": [
        "poblacion = [crear_ruta() for i in range(100)]\n",
        "num_generaciones = 100\n",
        "\n",
        "for i in range(num_generaciones):\n",
        "\n",
        "  padres_selec = seleccion(poblacion)\n",
        "\n",
        "  hijos = cruce(padres_selec)\n",
        "  hijos_mut = mutacion(hijos)\n",
        "\n",
        "  poblacion = padres_selec + hijos_mut\n",
        "\n",
        "mejor_ruta = ruta_optima(poblacion)\n",
        "\n",
        "ruta_str = \"\"\n",
        "for i in range(len(mejor_ruta)):\n",
        "  origen = mejor_ruta[i]\n",
        "  if i + 1 < len(mejor_ruta):\n",
        "    destino = mejor_ruta[i + 1]\n",
        "  else:\n",
        "    destino = mejor_ruta[0]\n",
        "\n",
        "  ruta_str += origen + \"-\" + destino + \", luego \"\n",
        "\n",
        "print(f\"Mejor ruta: {ruta_str[:-6]}\")"
      ],
      "metadata": {
        "colab": {
          "base_uri": "https://localhost:8080/"
        },
        "id": "gYMkSnDAQXAH",
        "outputId": "6c82535a-a917-4511-b3c1-18dd43aff1c3"
      },
      "execution_count": null,
      "outputs": [
        {
          "output_type": "stream",
          "name": "stdout",
          "text": [
            "Mejor ruta: E-A, luego A-F, luego F-B, luego B-D, luego D-C, luego C-E, \n"
          ]
        }
      ]
    }
  ]
}