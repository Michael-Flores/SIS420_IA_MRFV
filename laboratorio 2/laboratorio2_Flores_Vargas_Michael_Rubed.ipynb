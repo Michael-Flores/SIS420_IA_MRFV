{
  "nbformat": 4,
  "nbformat_minor": 0,
  "metadata": {
    "colab": {
      "provenance": []
    },
    "kernelspec": {
      "name": "python3",
      "display_name": "Python 3"
    },
    "language_info": {
      "name": "python"
    }
  },
  "cells": [
    {
      "cell_type": "code",
      "execution_count": 144,
      "metadata": {
        "id": "qUxgZvq33-ID"
      },
      "outputs": [],
      "source": [
        "# utilizado para manejos de directorios y rutas\n",
        "import os\n",
        "\n",
        "# Computacion vectorial y cientifica para python\n",
        "import numpy as np\n",
        "\n",
        "# Librerias para graficación (trazado de gráficos)\n",
        "from matplotlib import pyplot\n",
        "from mpl_toolkits.mplot3d import Axes3D  # Necesario para graficar superficies 3D\n",
        "\n",
        "# llama a matplotlib a embeber graficas dentro de los cuadernillos\n",
        "%matplotlib inline"
      ]
    },
    {
      "cell_type": "code",
      "source": [
        "import pandas as pd\n",
        "from sklearn.preprocessing import LabelEncoder\n",
        "from datetime import datetime"
      ],
      "metadata": {
        "id": "3zeLCpwjiQCT"
      },
      "execution_count": 145,
      "outputs": []
    },
    {
      "cell_type": "code",
      "source": [
        "#Carga de dataset\n",
        "data = pd.read_csv('/content/car_price.csv')"
      ],
      "metadata": {
        "id": "V0ZXOA-6iUmV"
      },
      "execution_count": 146,
      "outputs": []
    },
    {
      "cell_type": "code",
      "source": [
        "print(data)"
      ],
      "metadata": {
        "colab": {
          "base_uri": "https://localhost:8080/"
        },
        "id": "h325dVhXicrs",
        "outputId": "e96540b3-bb4d-4573-ec6b-3ea299cc61ca"
      },
      "execution_count": 147,
      "outputs": [
        {
          "output_type": "stream",
          "name": "stdout",
          "text": [
            "      Unnamed: 0                                car_name car_prices_in_rupee  \\\n",
            "0              0  Jeep Compass 2.0 Longitude Option BSIV          10.03 Lakh   \n",
            "1              1            Renault Duster RXZ Turbo CVT          12.83 Lakh   \n",
            "2              2                      Toyota Camry 2.5 G          16.40 Lakh   \n",
            "3              3                       Honda Jazz VX CVT           7.77 Lakh   \n",
            "4              4        Volkswagen Polo 1.2 MPI Highline           5.15 Lakh   \n",
            "...          ...                                     ...                 ...   \n",
            "5507        5507                 BMW X1 sDrive 20d xLine          28.90 Lakh   \n",
            "5508        5508                   BMW M Series M4 Coupe          64.90 Lakh   \n",
            "5509        5509              Jaguar XF 2.2 Litre Luxury          13.75 Lakh   \n",
            "5510        5510                      BMW 7 Series 730Ld          29.90 Lakh   \n",
            "5511        5511               BMW 5 Series 520d M Sport          31.90 Lakh   \n",
            "\n",
            "      kms_driven fuel_type transmission  ownership  manufacture   engine  \\\n",
            "0     86,226 kms    Diesel       Manual  1st Owner         2017  1956 cc   \n",
            "1     13,248 kms    Petrol    Automatic  1st Owner         2021  1330 cc   \n",
            "2     60,343 kms    Petrol    Automatic  1st Owner         2016  2494 cc   \n",
            "3     26,696 kms    Petrol    Automatic  1st Owner         2018  1199 cc   \n",
            "4     69,414 kms    Petrol       Manual  1st Owner         2016  1199 cc   \n",
            "...          ...       ...          ...        ...          ...      ...   \n",
            "5507  45,000 kms    Diesel    Automatic  1st Owner         2018  2995 cc   \n",
            "5508  29,000 kms    Petrol    Automatic  2nd Owner         2015  1968 cc   \n",
            "5509  90,000 kms    Diesel    Automatic  2nd Owner         2013  2755 cc   \n",
            "5510  79,000 kms    Diesel    Automatic  3rd Owner         2015  2967 cc   \n",
            "5511  42,000 kms    Diesel    Automatic  2nd Owner         2017  1991 cc   \n",
            "\n",
            "        Seats  \n",
            "0     5 Seats  \n",
            "1     5 Seats  \n",
            "2     5 Seats  \n",
            "3     5 Seats  \n",
            "4     5 Seats  \n",
            "...       ...  \n",
            "5507  7 Seats  \n",
            "5508  5 Seats  \n",
            "5509  5 Seats  \n",
            "5510  6 Seats  \n",
            "5511  5 Seats  \n",
            "\n",
            "[5512 rows x 10 columns]\n"
          ]
        }
      ]
    },
    {
      "cell_type": "code",
      "source": [
        "data.info()"
      ],
      "metadata": {
        "colab": {
          "base_uri": "https://localhost:8080/"
        },
        "id": "ZoYIJwRyifh-",
        "outputId": "291ee239-743b-4f5e-a164-f0cb0f5e6215"
      },
      "execution_count": 148,
      "outputs": [
        {
          "output_type": "stream",
          "name": "stdout",
          "text": [
            "<class 'pandas.core.frame.DataFrame'>\n",
            "RangeIndex: 5512 entries, 0 to 5511\n",
            "Data columns (total 10 columns):\n",
            " #   Column               Non-Null Count  Dtype \n",
            "---  ------               --------------  ----- \n",
            " 0   Unnamed: 0           5512 non-null   int64 \n",
            " 1   car_name             5512 non-null   object\n",
            " 2   car_prices_in_rupee  5512 non-null   object\n",
            " 3   kms_driven           5512 non-null   object\n",
            " 4   fuel_type            5512 non-null   object\n",
            " 5   transmission         5512 non-null   object\n",
            " 6   ownership            5512 non-null   object\n",
            " 7   manufacture          5512 non-null   int64 \n",
            " 8   engine               5512 non-null   object\n",
            " 9   Seats                5512 non-null   object\n",
            "dtypes: int64(2), object(8)\n",
            "memory usage: 430.8+ KB\n"
          ]
        }
      ]
    },
    {
      "cell_type": "code",
      "source": [
        "columnas_eliminar = ['car_prices_in_rupee','kms_driven','engine','Seats']\n",
        "simbolo = 'Lakh'\n",
        "#columna_eliminar2 = ['']\n",
        "simbolo2='kms'\n",
        "simbolo3=','\n",
        "simbolo4='cc'\n",
        "simbolo5='Seats'\n",
        "#simbolo3='.'\n",
        "for columna in columnas_eliminar:\n",
        "    data[columna] = data[columna].str.replace(simbolo, '', regex=False)\n",
        "#for columna in columna_eliminar2:\n",
        "    data[columna] = data[columna].str.replace(simbolo2, '', regex=False)\n",
        "    data[columna] = data[columna].str.replace(simbolo3, '', regex=False)\n",
        "    data[columna] = data[columna].str.replace(simbolo4, '', regex=False)\n",
        "    data[columna] = data[columna].str.replace(simbolo5, '', regex=False)"
      ],
      "metadata": {
        "id": "HcW3ITuoi4aw"
      },
      "execution_count": 149,
      "outputs": []
    },
    {
      "cell_type": "code",
      "source": [
        "print(data)"
      ],
      "metadata": {
        "colab": {
          "base_uri": "https://localhost:8080/"
        },
        "id": "CDcJv73OABpB",
        "outputId": "7fea55ab-3663-4a74-904c-7ce1c5978ffd"
      },
      "execution_count": 150,
      "outputs": [
        {
          "output_type": "stream",
          "name": "stdout",
          "text": [
            "      Unnamed: 0                                car_name car_prices_in_rupee  \\\n",
            "0              0  Jeep Compass 2.0 Longitude Option BSIV              10.03    \n",
            "1              1            Renault Duster RXZ Turbo CVT              12.83    \n",
            "2              2                      Toyota Camry 2.5 G              16.40    \n",
            "3              3                       Honda Jazz VX CVT               7.77    \n",
            "4              4        Volkswagen Polo 1.2 MPI Highline               5.15    \n",
            "...          ...                                     ...                 ...   \n",
            "5507        5507                 BMW X1 sDrive 20d xLine              28.90    \n",
            "5508        5508                   BMW M Series M4 Coupe              64.90    \n",
            "5509        5509              Jaguar XF 2.2 Litre Luxury              13.75    \n",
            "5510        5510                      BMW 7 Series 730Ld              29.90    \n",
            "5511        5511               BMW 5 Series 520d M Sport              31.90    \n",
            "\n",
            "     kms_driven fuel_type transmission  ownership  manufacture engine Seats  \n",
            "0        86226     Diesel       Manual  1st Owner         2017  1956     5   \n",
            "1        13248     Petrol    Automatic  1st Owner         2021  1330     5   \n",
            "2        60343     Petrol    Automatic  1st Owner         2016  2494     5   \n",
            "3        26696     Petrol    Automatic  1st Owner         2018  1199     5   \n",
            "4        69414     Petrol       Manual  1st Owner         2016  1199     5   \n",
            "...         ...       ...          ...        ...          ...    ...   ...  \n",
            "5507     45000     Diesel    Automatic  1st Owner         2018  2995     7   \n",
            "5508     29000     Petrol    Automatic  2nd Owner         2015  1968     5   \n",
            "5509     90000     Diesel    Automatic  2nd Owner         2013  2755     5   \n",
            "5510     79000     Diesel    Automatic  3rd Owner         2015  2967     6   \n",
            "5511     42000     Diesel    Automatic  2nd Owner         2017  1991     5   \n",
            "\n",
            "[5512 rows x 10 columns]\n"
          ]
        }
      ]
    },
    {
      "cell_type": "code",
      "source": [
        "data.info()"
      ],
      "metadata": {
        "colab": {
          "base_uri": "https://localhost:8080/"
        },
        "id": "MJR_ngQEAFSz",
        "outputId": "c4af7d65-1325-4e0a-c96a-de4c678d58b5"
      },
      "execution_count": 154,
      "outputs": [
        {
          "output_type": "stream",
          "name": "stdout",
          "text": [
            "<class 'pandas.core.frame.DataFrame'>\n",
            "RangeIndex: 5512 entries, 0 to 5511\n",
            "Data columns (total 10 columns):\n",
            " #   Column               Non-Null Count  Dtype \n",
            "---  ------               --------------  ----- \n",
            " 0   Unnamed: 0           5512 non-null   int64 \n",
            " 1   car_name             5512 non-null   object\n",
            " 2   car_prices_in_rupee  5512 non-null   object\n",
            " 3   kms_driven           5512 non-null   object\n",
            " 4   fuel_type            5512 non-null   object\n",
            " 5   transmission         5512 non-null   object\n",
            " 6   ownership            5512 non-null   object\n",
            " 7   manufacture          5512 non-null   int64 \n",
            " 8   engine               5512 non-null   object\n",
            " 9   Seats                5512 non-null   object\n",
            "dtypes: int64(2), object(8)\n",
            "memory usage: 430.8+ KB\n"
          ]
        }
      ]
    },
    {
      "cell_type": "markdown",
      "source": [],
      "metadata": {
        "id": "0JmyDLjiaILb"
      }
    },
    {
      "cell_type": "code",
      "source": [
        "# Supongamos que 'data' es tu DataFrame\n",
        "columna_categorica = 'car_prices_in_rupee'\n",
        "columna_categorica2= 'kms_driven'\n",
        "columna_categorica3='engine'\n",
        "columna_categorica4='Seats'\n",
        "columna_categorica5='car_name'\n",
        "columna_numerica = 'Precio'\n",
        "columna_numerica2='kilometros'\n",
        "columna_numerica3='cilindrada'\n",
        "columna_numerica4='acientos'\n",
        "\n",
        "# Crea una nueva columna numérica y copia los valores de la columna categórica\n",
        "data[columna_numerica] = pd.to_numeric(data[columna_categorica], errors='coerce')\n",
        "data[columna_numerica2] = pd.to_numeric(data[columna_categorica2], errors='coerce')\n",
        "data[columna_numerica3] = pd.to_numeric(data[columna_categorica3], errors='coerce')\n",
        "data[columna_numerica4] = pd.to_numeric(data[columna_categorica4], errors='coerce')\n",
        "\n",
        "# Elimina la columna categórica original\n",
        "data.drop(columna_categorica, axis=1, inplace=True)\n",
        "data.drop(columna_categorica2, axis=1, inplace=True)\n",
        "data.drop(columna_categorica3, axis=1, inplace=True)\n",
        "data.drop(columna_categorica4, axis=1, inplace=True)\n",
        "data.drop(columna_categorica5, axis=1, inplace=True)"
      ],
      "metadata": {
        "id": "iFCu2N4YuhfQ"
      },
      "execution_count": 155,
      "outputs": []
    },
    {
      "cell_type": "code",
      "source": [
        "data.info()"
      ],
      "metadata": {
        "colab": {
          "base_uri": "https://localhost:8080/"
        },
        "id": "VpbiDOZmjHzw",
        "outputId": "ad53d865-55ff-4ab3-97eb-269f832e3ccf"
      },
      "execution_count": 156,
      "outputs": [
        {
          "output_type": "stream",
          "name": "stdout",
          "text": [
            "<class 'pandas.core.frame.DataFrame'>\n",
            "RangeIndex: 5512 entries, 0 to 5511\n",
            "Data columns (total 9 columns):\n",
            " #   Column        Non-Null Count  Dtype  \n",
            "---  ------        --------------  -----  \n",
            " 0   Unnamed: 0    5512 non-null   int64  \n",
            " 1   fuel_type     5512 non-null   object \n",
            " 2   transmission  5512 non-null   object \n",
            " 3   ownership     5512 non-null   object \n",
            " 4   manufacture   5512 non-null   int64  \n",
            " 5   Precio        5456 non-null   float64\n",
            " 6   kilometros    5512 non-null   int64  \n",
            " 7   cilindrada    5512 non-null   int64  \n",
            " 8   acientos      5512 non-null   int64  \n",
            "dtypes: float64(1), int64(5), object(3)\n",
            "memory usage: 387.7+ KB\n"
          ]
        }
      ]
    },
    {
      "cell_type": "code",
      "source": [
        "#variables categoricas\n",
        "columnas_categoricas = data.select_dtypes(include=['object']).columns\n",
        "#variables fechas\n",
        "columnas_fechas = data.select_dtypes(include=['datetime64']).columns"
      ],
      "metadata": {
        "id": "sFmWfM7Mjn9Z"
      },
      "execution_count": 157,
      "outputs": []
    },
    {
      "cell_type": "code",
      "source": [
        "#Procesamiento de frases o palabras\n",
        "for columna in columnas_categoricas:\n",
        "  le = LabelEncoder()\n",
        "  data[columna] = le.fit_transform(data[columna])"
      ],
      "metadata": {
        "id": "GcxRaOoqkOyD"
      },
      "execution_count": 158,
      "outputs": []
    },
    {
      "cell_type": "code",
      "source": [
        "#Fechas a numeros\n",
        "for columna in columnas_fechas:\n",
        "  data[columna] = pd.to_numeric(data[columna].map(datetime.timestamp))"
      ],
      "metadata": {
        "id": "hVuep7WXkQvA"
      },
      "execution_count": 159,
      "outputs": []
    },
    {
      "cell_type": "code",
      "source": [
        "#resultado\n",
        "print(data)"
      ],
      "metadata": {
        "colab": {
          "base_uri": "https://localhost:8080/"
        },
        "id": "vHzN_Uj0kS96",
        "outputId": "325cf916-b289-46e0-8a0c-7f6eb424ca89"
      },
      "execution_count": 160,
      "outputs": [
        {
          "output_type": "stream",
          "name": "stdout",
          "text": [
            "      Unnamed: 0  fuel_type  transmission  ownership  manufacture  Precio  \\\n",
            "0              0          1             1          1         2017   10.03   \n",
            "1              1          4             0          1         2021   12.83   \n",
            "2              2          4             0          1         2016   16.40   \n",
            "3              3          4             0          1         2018    7.77   \n",
            "4              4          4             1          1         2016    5.15   \n",
            "...          ...        ...           ...        ...          ...     ...   \n",
            "5507        5507          1             0          1         2018   28.90   \n",
            "5508        5508          4             0          2         2015   64.90   \n",
            "5509        5509          1             0          2         2013   13.75   \n",
            "5510        5510          1             0          3         2015   29.90   \n",
            "5511        5511          1             0          2         2017   31.90   \n",
            "\n",
            "      kilometros  cilindrada  acientos  \n",
            "0          86226        1956         5  \n",
            "1          13248        1330         5  \n",
            "2          60343        2494         5  \n",
            "3          26696        1199         5  \n",
            "4          69414        1199         5  \n",
            "...          ...         ...       ...  \n",
            "5507       45000        2995         7  \n",
            "5508       29000        1968         5  \n",
            "5509       90000        2755         5  \n",
            "5510       79000        2967         6  \n",
            "5511       42000        1991         5  \n",
            "\n",
            "[5512 rows x 9 columns]\n"
          ]
        }
      ]
    },
    {
      "cell_type": "code",
      "source": [
        "data.info()"
      ],
      "metadata": {
        "colab": {
          "base_uri": "https://localhost:8080/"
        },
        "id": "tJ9GFsACksGy",
        "outputId": "0d7c724a-a314-4dc1-ec5a-8e4511474360"
      },
      "execution_count": 161,
      "outputs": [
        {
          "output_type": "stream",
          "name": "stdout",
          "text": [
            "<class 'pandas.core.frame.DataFrame'>\n",
            "RangeIndex: 5512 entries, 0 to 5511\n",
            "Data columns (total 9 columns):\n",
            " #   Column        Non-Null Count  Dtype  \n",
            "---  ------        --------------  -----  \n",
            " 0   Unnamed: 0    5512 non-null   int64  \n",
            " 1   fuel_type     5512 non-null   int64  \n",
            " 2   transmission  5512 non-null   int64  \n",
            " 3   ownership     5512 non-null   int64  \n",
            " 4   manufacture   5512 non-null   int64  \n",
            " 5   Precio        5456 non-null   float64\n",
            " 6   kilometros    5512 non-null   int64  \n",
            " 7   cilindrada    5512 non-null   int64  \n",
            " 8   acientos      5512 non-null   int64  \n",
            "dtypes: float64(1), int64(8)\n",
            "memory usage: 387.7 KB\n"
          ]
        }
      ]
    },
    {
      "cell_type": "code",
      "source": [
        "#llenar datos vacios\n",
        "columnas_especificas = ['Precio']\n",
        "media_columnas = data[columnas_especificas].mean()\n",
        "data[columnas_especificas] = data[columnas_especificas].fillna(media_columnas)"
      ],
      "metadata": {
        "id": "aL01HjE1tMNP"
      },
      "execution_count": 162,
      "outputs": []
    },
    {
      "cell_type": "code",
      "source": [
        "data.info()"
      ],
      "metadata": {
        "colab": {
          "base_uri": "https://localhost:8080/"
        },
        "id": "IZheY0q7lvQg",
        "outputId": "77468e87-87a2-42f7-b802-17d4eae748f3"
      },
      "execution_count": 163,
      "outputs": [
        {
          "output_type": "stream",
          "name": "stdout",
          "text": [
            "<class 'pandas.core.frame.DataFrame'>\n",
            "RangeIndex: 5512 entries, 0 to 5511\n",
            "Data columns (total 9 columns):\n",
            " #   Column        Non-Null Count  Dtype  \n",
            "---  ------        --------------  -----  \n",
            " 0   Unnamed: 0    5512 non-null   int64  \n",
            " 1   fuel_type     5512 non-null   int64  \n",
            " 2   transmission  5512 non-null   int64  \n",
            " 3   ownership     5512 non-null   int64  \n",
            " 4   manufacture   5512 non-null   int64  \n",
            " 5   Precio        5512 non-null   float64\n",
            " 6   kilometros    5512 non-null   int64  \n",
            " 7   cilindrada    5512 non-null   int64  \n",
            " 8   acientos      5512 non-null   int64  \n",
            "dtypes: float64(1), int64(8)\n",
            "memory usage: 387.7 KB\n"
          ]
        }
      ]
    },
    {
      "cell_type": "code",
      "source": [
        "# Lectura de Datos\n",
        "X = data.iloc[:, :8]\n",
        "y = data.iloc[:, 8]\n",
        "m = y.size"
      ],
      "metadata": {
        "id": "YuuRUXgCwvZ_"
      },
      "execution_count": 165,
      "outputs": []
    },
    {
      "cell_type": "code",
      "source": [
        "print(X)\n",
        "print('*'*25)\n",
        "print(y)"
      ],
      "metadata": {
        "colab": {
          "base_uri": "https://localhost:8080/"
        },
        "id": "x1NBC6A6xFoC",
        "outputId": "5e6c2e8a-adea-450a-eb57-426182c125b5"
      },
      "execution_count": 166,
      "outputs": [
        {
          "output_type": "stream",
          "name": "stdout",
          "text": [
            "      Unnamed: 0  fuel_type  transmission  ownership  manufacture  Precio  \\\n",
            "0              0          1             1          1         2017   10.03   \n",
            "1              1          4             0          1         2021   12.83   \n",
            "2              2          4             0          1         2016   16.40   \n",
            "3              3          4             0          1         2018    7.77   \n",
            "4              4          4             1          1         2016    5.15   \n",
            "...          ...        ...           ...        ...          ...     ...   \n",
            "5507        5507          1             0          1         2018   28.90   \n",
            "5508        5508          4             0          2         2015   64.90   \n",
            "5509        5509          1             0          2         2013   13.75   \n",
            "5510        5510          1             0          3         2015   29.90   \n",
            "5511        5511          1             0          2         2017   31.90   \n",
            "\n",
            "      kilometros  cilindrada  \n",
            "0          86226        1956  \n",
            "1          13248        1330  \n",
            "2          60343        2494  \n",
            "3          26696        1199  \n",
            "4          69414        1199  \n",
            "...          ...         ...  \n",
            "5507       45000        2995  \n",
            "5508       29000        1968  \n",
            "5509       90000        2755  \n",
            "5510       79000        2967  \n",
            "5511       42000        1991  \n",
            "\n",
            "[5512 rows x 8 columns]\n",
            "*************************\n",
            "0       5\n",
            "1       5\n",
            "2       5\n",
            "3       5\n",
            "4       5\n",
            "       ..\n",
            "5507    7\n",
            "5508    5\n",
            "5509    5\n",
            "5510    6\n",
            "5511    5\n",
            "Name: acientos, Length: 5512, dtype: int64\n"
          ]
        }
      ]
    },
    {
      "cell_type": "code",
      "source": [
        "def  featureNormalize(X):\n",
        "    X_norm = X.copy()\n",
        "    mu = np.zeros(X.shape[1])\n",
        "    sigma = np.zeros(X.shape[1])\n",
        "\n",
        "    mu = np.mean(X, axis = 0)\n",
        "    sigma = np.std(X, axis = 0)\n",
        "    X_norm = (X - mu) / sigma\n",
        "\n",
        "    return X_norm, mu, sigma\n",
        "\n",
        "# Normaliza entre -0.5 y 0.5 (revisar) porque se dan valores negativos y postivos"
      ],
      "metadata": {
        "id": "DrrFytt2gkI8"
      },
      "execution_count": 167,
      "outputs": []
    },
    {
      "cell_type": "code",
      "source": [
        "# llama featureNormalize con los datos cargados\n",
        "X_norm, mu, sigma = featureNormalize(X)\n",
        "\n",
        "print(X)\n",
        "print('Media calculada:', mu)\n",
        "print('Desviación estandar calculada:', sigma)\n",
        "print(X_norm)"
      ],
      "metadata": {
        "colab": {
          "base_uri": "https://localhost:8080/"
        },
        "id": "MhHhItqc4YLy",
        "outputId": "b393937a-02f5-433e-fc03-8f6a00baaab3"
      },
      "execution_count": 168,
      "outputs": [
        {
          "output_type": "stream",
          "name": "stdout",
          "text": [
            "      Unnamed: 0  fuel_type  transmission  ownership  manufacture  Precio  \\\n",
            "0              0          1             1          1         2017   10.03   \n",
            "1              1          4             0          1         2021   12.83   \n",
            "2              2          4             0          1         2016   16.40   \n",
            "3              3          4             0          1         2018    7.77   \n",
            "4              4          4             1          1         2016    5.15   \n",
            "...          ...        ...           ...        ...          ...     ...   \n",
            "5507        5507          1             0          1         2018   28.90   \n",
            "5508        5508          4             0          2         2015   64.90   \n",
            "5509        5509          1             0          2         2013   13.75   \n",
            "5510        5510          1             0          3         2015   29.90   \n",
            "5511        5511          1             0          2         2017   31.90   \n",
            "\n",
            "      kilometros  cilindrada  \n",
            "0          86226        1956  \n",
            "1          13248        1330  \n",
            "2          60343        2494  \n",
            "3          26696        1199  \n",
            "4          69414        1199  \n",
            "...          ...         ...  \n",
            "5507       45000        2995  \n",
            "5508       29000        1968  \n",
            "5509       90000        2755  \n",
            "5510       79000        2967  \n",
            "5511       42000        1991  \n",
            "\n",
            "[5512 rows x 8 columns]\n",
            "Media calculada: Unnamed: 0       2755.500000\n",
            "fuel_type           2.613026\n",
            "transmission        0.718795\n",
            "ownership           1.421807\n",
            "manufacture      2015.455552\n",
            "Precio           1718.428213\n",
            "kilometros      63211.888062\n",
            "cilindrada       1532.299710\n",
            "dtype: float64\n",
            "Desviación estandar calculada: Unnamed: 0       1591.177316\n",
            "fuel_type           1.509980\n",
            "transmission        0.449587\n",
            "ownership           0.703028\n",
            "manufacture         3.927618\n",
            "Precio          11468.996585\n",
            "kilometros      41840.335264\n",
            "cilindrada        579.158333\n",
            "dtype: float64\n",
            "      Unnamed: 0  fuel_type  transmission  ownership  manufacture    Precio  \\\n",
            "0      -1.731737  -1.068243      0.625473  -0.599986     0.393228 -0.148958   \n",
            "1      -1.731108   0.918538     -1.598790  -0.599986     1.411657 -0.148714   \n",
            "2      -1.730480   0.918538     -1.598790  -0.599986     0.138621 -0.148403   \n",
            "3      -1.729851   0.918538     -1.598790  -0.599986     0.647835 -0.149155   \n",
            "4      -1.729223   0.918538      0.625473  -0.599986     0.138621 -0.149383   \n",
            "...          ...        ...           ...        ...          ...       ...   \n",
            "5507    1.729223  -1.068243     -1.598790  -0.599986     0.647835 -0.147313   \n",
            "5508    1.729851   0.918538     -1.598790   0.822432    -0.115987 -0.144174   \n",
            "5509    1.730480  -1.068243     -1.598790   0.822432    -0.625201 -0.148634   \n",
            "5510    1.731108  -1.068243     -1.598790   2.244850    -0.115987 -0.147225   \n",
            "5511    1.731737  -1.068243     -1.598790   0.822432     0.393228 -0.147051   \n",
            "\n",
            "      kilometros  cilindrada  \n",
            "0       0.550046    0.731579  \n",
            "1      -1.194156   -0.349299  \n",
            "2      -0.068568    1.660514  \n",
            "3      -0.872744   -0.575490  \n",
            "4       0.148233   -0.575490  \n",
            "...          ...         ...  \n",
            "5507   -0.435271    2.525562  \n",
            "5508   -0.817677    0.752299  \n",
            "5509    0.640246    2.111168  \n",
            "5510    0.377342    2.477216  \n",
            "5511   -0.506972    0.792012  \n",
            "\n",
            "[5512 rows x 8 columns]\n"
          ]
        }
      ]
    },
    {
      "cell_type": "code",
      "source": [
        "# Añade el termino de interseccion a X\n",
        "# (Columna de unos para X0)\n",
        "X = np.concatenate([np.ones((m, 1)), X_norm], axis=1)"
      ],
      "metadata": {
        "id": "EB4cCmdm4bxJ"
      },
      "execution_count": 169,
      "outputs": []
    },
    {
      "cell_type": "code",
      "source": [
        "print(X)"
      ],
      "metadata": {
        "colab": {
          "base_uri": "https://localhost:8080/"
        },
        "id": "jxdWrQDC4fcD",
        "outputId": "dd0326d2-f600-4987-fcb3-b53f232932c6"
      },
      "execution_count": 170,
      "outputs": [
        {
          "output_type": "stream",
          "name": "stdout",
          "text": [
            "[[ 1.         -1.7317366  -1.0682431  ... -0.14895795  0.55004607\n",
            "   0.73157937]\n",
            " [ 1.         -1.73110814  0.91853768 ... -0.14871381 -1.19415602\n",
            "  -0.34929949]\n",
            " [ 1.         -1.73047967  0.91853768 ... -0.14840254 -0.06856752\n",
            "   1.6605136 ]\n",
            " ...\n",
            " [ 1.          1.73047967 -1.0682431  ... -0.1486336   0.64024611\n",
            "   2.11116757]\n",
            " [ 1.          1.73110814 -1.0682431  ... -0.14722545  0.37734191\n",
            "   2.477216  ]\n",
            " [ 1.          1.7317366  -1.0682431  ... -0.14705107 -0.50697223\n",
            "   0.7920119 ]]\n"
          ]
        }
      ]
    },
    {
      "cell_type": "code",
      "source": [
        "def computeCostMulti(X, y, theta):\n",
        "    # Inicializa algunos valores utiles\n",
        "    m = y.shape[0] # numero de ejemplos de entrenamiento\n",
        "\n",
        "    J = 0\n",
        "\n",
        "    h = np.dot(X, theta)\n",
        "\n",
        "    J = (1/(2 * m)) * np.sum(np.square(np.dot(X, theta) - y))\n",
        "\n",
        "    return J\n"
      ],
      "metadata": {
        "id": "is_NER384kX5"
      },
      "execution_count": 171,
      "outputs": []
    },
    {
      "cell_type": "code",
      "source": [
        "def gradientDescentMulti(X, y, theta, alpha, num_iters):\n",
        "\n",
        "    # Inicializa algunos valores\n",
        "    m = y.shape[0] # numero de ejemplos de entrenamiento\n",
        "\n",
        "    # realiza una copia de theta, el cual será acutalizada por el descenso por el gradiente\n",
        "    theta = theta.copy()\n",
        "\n",
        "    J_history = []\n",
        "\n",
        "    for i in range(num_iters):\n",
        "        theta = theta - (alpha / m) * (np.dot(X, theta) - y).dot(X)\n",
        "        J_history.append(computeCostMulti(X, y, theta))\n",
        "\n",
        "    return theta, J_history"
      ],
      "metadata": {
        "id": "NTic99Il4k9H"
      },
      "execution_count": 172,
      "outputs": []
    },
    {
      "cell_type": "code",
      "source": [
        "# Elegir algun valor para alpha (probar varias alternativas)\n",
        "alpha = 0.001 # si es grande se resta más a los thetas, si es menor alfa va cambiando poco a poco\n",
        "#se necesitan muchas iteraciones, si es grande el alfa salta mucho y no llega facilmente\n",
        "# mejores alfas = 0.1, 0.01, 0.001, 0.0001, 0.0005\n",
        "num_iters = 7000\n",
        "\n",
        "# inicializa theta y ejecuta el descenso por el gradiente\n",
        "theta = np.zeros(9)\n",
        "theta, J_history = gradientDescentMulti(X, y, theta, alpha, num_iters)\n",
        "\n",
        "# Grafica la convergencia del costo\n",
        "pyplot.plot(np.arange(len(J_history)), J_history, lw=2)\n",
        "pyplot.xlabel('Numero de iteraciones')\n",
        "pyplot.ylabel('Costo J')\n",
        "\n",
        "# Muestra los resultados del descenso por el gradiente\n",
        "print('theta calculado por el descenso por el gradiente: {:s}'.format(str(theta)))\n",
        "\n",
        "# Estimar el precio para un coche antiguo\n",
        "X_array = [1, 2,1,3,2001,7.23,90688,2056,8]\n",
        "X_array[1:13] = (X_array[1:9] - mu) / sigma\n",
        "price = np.dot(X_array, theta)   # Se debe cambiar esto\n",
        "\n",
        "print('El valor predecido es (usando el descenso por el gradiente): {:.4f}'.format(price))"
      ],
      "metadata": {
        "colab": {
          "base_uri": "https://localhost:8080/",
          "height": 538
        },
        "id": "2sc2AmKF4qJQ",
        "outputId": "583440fb-5b56-4b2a-e131-24a4aa7ab6b9"
      },
      "execution_count": 183,
      "outputs": [
        {
          "output_type": "stream",
          "name": "stdout",
          "text": [
            "theta calculado por el descenso por el gradiente: [ 5.24595439e+00 -1.05054481e-02 -3.78061080e-02  2.94531792e-02\n",
            " -2.83916682e-03  7.43901871e-03  2.46297112e-03  4.86180310e-03\n",
            "  9.86309807e-02]\n",
            "El valor predecido es (usando el descenso por el gradiente): -6.6725\n"
          ]
        },
        {
          "output_type": "display_data",
          "data": {
            "text/plain": [
              "<Figure size 640x480 with 1 Axes>"
            ],
            "image/png": "[encoded data removed]"
          },
          "metadata": {}
        }
      ]
    },
    {
      "cell_type": "code",
      "source": [
        "X_array = [1, 2,1,3,2001,7.23,90688,2056,8]\n",
        "X_array[1:9] = (X_array[1:9] - mu) / sigma"
      ],
      "metadata": {
        "id": "pHpGapUtf4QP"
      },
      "execution_count": 194,
      "outputs": []
    },
    {
      "cell_type": "code",
      "source": [
        "X_array[1:9]"
      ],
      "metadata": {
        "colab": {
          "base_uri": "https://localhost:8080/"
        },
        "id": "c_fhRmzof56K",
        "outputId": "bf88242b-a0dd-43e6-cd0b-1a389d697afa"
      },
      "execution_count": 195,
      "outputs": [
        {
          "output_type": "execute_result",
          "data": {
            "text/plain": [
              "[-1.730479672397615,\n",
              " -1.0682430966628682,\n",
              " 5.0739989302995445,\n",
              " 2844.235983061741,\n",
              " -511.30881017344416,\n",
              " 7.757398053660955,\n",
              " -1.4616490923399597,\n",
              " -2.6319222620575413]"
            ]
          },
          "metadata": {},
          "execution_count": 195
        }
      ]
    },
    {
      "cell_type": "code",
      "source": [
        "#Carga de dataset\n",
        "data = pd.read_csv('/content/car_price.csv')"
      ],
      "metadata": {
        "id": "mkyKObWNL6xa"
      },
      "execution_count": 212,
      "outputs": []
    },
    {
      "cell_type": "code",
      "source": [
        "columnas_eliminar = ['car_prices_in_rupee','kms_driven','engine','Seats']\n",
        "simbolo = 'Lakh'\n",
        "#columna_eliminar2 = ['']\n",
        "simbolo2='kms'\n",
        "simbolo3=','\n",
        "simbolo4='cc'\n",
        "simbolo5='Seats'\n",
        "#simbolo3='.'\n",
        "for columna in columnas_eliminar:\n",
        "    data[columna] = data[columna].str.replace(simbolo, '', regex=False)\n",
        "#for columna in columna_eliminar2:\n",
        "    data[columna] = data[columna].str.replace(simbolo2, '', regex=False)\n",
        "    data[columna] = data[columna].str.replace(simbolo3, '', regex=False)\n",
        "    data[columna] = data[columna].str.replace(simbolo4, '', regex=False)\n",
        "    data[columna] = data[columna].str.replace(simbolo5, '', regex=False)"
      ],
      "metadata": {
        "id": "UhA0G2UIMa0M"
      },
      "execution_count": 213,
      "outputs": []
    },
    {
      "cell_type": "code",
      "source": [
        "# Supongamos que 'data' es tu DataFrame\n",
        "columna_categorica = 'car_prices_in_rupee'\n",
        "columna_categorica2= 'kms_driven'\n",
        "columna_categorica3='engine'\n",
        "columna_categorica4='Seats'\n",
        "columna_categorica5='car_name'\n",
        "columna_numerica = 'Precio'\n",
        "columna_numerica2='kilometros'\n",
        "columna_numerica3='cilindrada'\n",
        "columna_numerica4='acientos'\n",
        "\n",
        "# Crea una nueva columna numérica y copia los valores de la columna categórica\n",
        "data[columna_numerica] = pd.to_numeric(data[columna_categorica], errors='coerce')\n",
        "data[columna_numerica2] = pd.to_numeric(data[columna_categorica2], errors='coerce')\n",
        "data[columna_numerica3] = pd.to_numeric(data[columna_categorica3], errors='coerce')\n",
        "data[columna_numerica4] = pd.to_numeric(data[columna_categorica4], errors='coerce')\n",
        "\n",
        "# Elimina la columna categórica original\n",
        "data.drop(columna_categorica, axis=1, inplace=True)\n",
        "data.drop(columna_categorica2, axis=1, inplace=True)\n",
        "data.drop(columna_categorica3, axis=1, inplace=True)\n",
        "data.drop(columna_categorica4, axis=1, inplace=True)\n",
        "data.drop(columna_categorica5, axis=1, inplace=True)"
      ],
      "metadata": {
        "id": "PXOtD-1HMi75"
      },
      "execution_count": 214,
      "outputs": []
    },
    {
      "cell_type": "code",
      "source": [
        "#variables categoricas\n",
        "columnas_categoricas = data.select_dtypes(include=['object']).columns\n",
        "#variables fechas\n",
        "columnas_fechas = data.select_dtypes(include=['datetime64']).columns"
      ],
      "metadata": {
        "id": "HmcLpXp9MoH0"
      },
      "execution_count": 215,
      "outputs": []
    },
    {
      "cell_type": "code",
      "source": [
        "#Procesamiento de frases o palabras\n",
        "for columna in columnas_categoricas:\n",
        "  le = LabelEncoder()\n",
        "  data[columna] = le.fit_transform(data[columna])"
      ],
      "metadata": {
        "id": "WbWqCdsUMtbo"
      },
      "execution_count": 216,
      "outputs": []
    },
    {
      "cell_type": "code",
      "source": [
        "#llenar datos vacios\n",
        "columnas_especificas = ['Precio']\n",
        "media_columnas = data[columnas_especificas].mean()\n",
        "data[columnas_especificas] = data[columnas_especificas].fillna(media_columnas)"
      ],
      "metadata": {
        "id": "PNufGmIrMxVI"
      },
      "execution_count": 217,
      "outputs": []
    },
    {
      "cell_type": "code",
      "source": [
        "# Generar un nuevo dataset con la columna movida\n",
        "nuevo_dataset = data.copy()\n",
        "\n",
        "# Guardar el nuevo DataFrame en un archivo CSV\n",
        "nuevo_dataset.to_csv('price_car.csv', index=False)\n",
        "\n",
        "print(\"Archivo 'price_car.csv' creado exitosamente.\")"
      ],
      "metadata": {
        "colab": {
          "base_uri": "https://localhost:8080/"
        },
        "id": "afrQKVkvN3Vt",
        "outputId": "e2e58c6a-f06c-4f09-9c34-a1ec67ff1753"
      },
      "execution_count": 218,
      "outputs": [
        {
          "output_type": "stream",
          "name": "stdout",
          "text": [
            "Archivo 'price_car.csv' creado exitosamente.\n"
          ]
        }
      ]
    },
    {
      "cell_type": "code",
      "source": [
        "#Carga de dataset\n",
        "data = pd.read_csv('/content/watches_price.csv')"
      ],
      "metadata": {
        "id": "cH7o-MrNOBOF"
      },
      "execution_count": 219,
      "outputs": []
    },
    {
      "cell_type": "code",
      "source": [
        "print(data)"
      ],
      "metadata": {
        "colab": {
          "base_uri": "https://localhost:8080/"
        },
        "id": "W3r9mN9FOCf_",
        "outputId": "055f8177-6d6a-4687-ff31-d54601e1a195"
      },
      "execution_count": 220,
      "outputs": [
        {
          "output_type": "stream",
          "name": "stdout",
          "text": [
            "      Unnamed: 0  fuel_type  transmission  ownership  manufacture  Precio  \\\n",
            "0              0          1             1          1         2017   10.03   \n",
            "1              1          4             0          1         2021   12.83   \n",
            "2              2          4             0          1         2016   16.40   \n",
            "3              3          4             0          1         2018    7.77   \n",
            "4              4          4             1          1         2016    5.15   \n",
            "...          ...        ...           ...        ...          ...     ...   \n",
            "5507        5507          1             0          1         2018   28.90   \n",
            "5508        5508          4             0          2         2015   64.90   \n",
            "5509        5509          1             0          2         2013   13.75   \n",
            "5510        5510          1             0          3         2015   29.90   \n",
            "5511        5511          1             0          2         2017   31.90   \n",
            "\n",
            "      kilometros  cilindrada  acientos  \n",
            "0          86226        1956         5  \n",
            "1          13248        1330         5  \n",
            "2          60343        2494         5  \n",
            "3          26696        1199         5  \n",
            "4          69414        1199         5  \n",
            "...          ...         ...       ...  \n",
            "5507       45000        2995         7  \n",
            "5508       29000        1968         5  \n",
            "5509       90000        2755         5  \n",
            "5510       79000        2967         6  \n",
            "5511       42000        1991         5  \n",
            "\n",
            "[5512 rows x 9 columns]\n"
          ]
        }
      ]
    },
    {
      "cell_type": "code",
      "source": [
        "# Lectura de Datos\n",
        "X = data.iloc[:, :8]\n",
        "y = data.iloc[:, 8]\n",
        "m = y.size"
      ],
      "metadata": {
        "id": "WBXdprvkM71B"
      },
      "execution_count": 221,
      "outputs": []
    },
    {
      "cell_type": "code",
      "source": [
        "print(X)\n",
        "print('*'*25)\n",
        "print(y)"
      ],
      "metadata": {
        "colab": {
          "base_uri": "https://localhost:8080/"
        },
        "id": "6RMQ4dhdNM-P",
        "outputId": "87f5db54-4a0c-459d-c231-90c3ecb2d4e8"
      },
      "execution_count": 222,
      "outputs": [
        {
          "output_type": "stream",
          "name": "stdout",
          "text": [
            "      Unnamed: 0  fuel_type  transmission  ownership  manufacture  Precio  \\\n",
            "0              0          1             1          1         2017   10.03   \n",
            "1              1          4             0          1         2021   12.83   \n",
            "2              2          4             0          1         2016   16.40   \n",
            "3              3          4             0          1         2018    7.77   \n",
            "4              4          4             1          1         2016    5.15   \n",
            "...          ...        ...           ...        ...          ...     ...   \n",
            "5507        5507          1             0          1         2018   28.90   \n",
            "5508        5508          4             0          2         2015   64.90   \n",
            "5509        5509          1             0          2         2013   13.75   \n",
            "5510        5510          1             0          3         2015   29.90   \n",
            "5511        5511          1             0          2         2017   31.90   \n",
            "\n",
            "      kilometros  cilindrada  \n",
            "0          86226        1956  \n",
            "1          13248        1330  \n",
            "2          60343        2494  \n",
            "3          26696        1199  \n",
            "4          69414        1199  \n",
            "...          ...         ...  \n",
            "5507       45000        2995  \n",
            "5508       29000        1968  \n",
            "5509       90000        2755  \n",
            "5510       79000        2967  \n",
            "5511       42000        1991  \n",
            "\n",
            "[5512 rows x 8 columns]\n",
            "*************************\n",
            "0       5\n",
            "1       5\n",
            "2       5\n",
            "3       5\n",
            "4       5\n",
            "       ..\n",
            "5507    7\n",
            "5508    5\n",
            "5509    5\n",
            "5510    6\n",
            "5511    5\n",
            "Name: acientos, Length: 5512, dtype: int64\n"
          ]
        }
      ]
    },
    {
      "cell_type": "code",
      "source": [
        "X = np.concatenate([np.ones((m, 1)), X], axis=1)"
      ],
      "metadata": {
        "id": "AfIl12w_PxG_"
      },
      "execution_count": 223,
      "outputs": []
    },
    {
      "cell_type": "code",
      "source": [
        "# importante que para usar m>n, evitar datos redundantes, no se normaliza\n",
        "def normalEqn(X, y):\n",
        "\n",
        "    theta = np.zeros(X.shape[1])\n",
        "\n",
        "    theta = np.dot(np.dot(np.linalg.inv(np.dot(X.T,X)),X.T),y)\n",
        "\n",
        "    return theta"
      ],
      "metadata": {
        "id": "_MMoIdODf9FN"
      },
      "execution_count": 224,
      "outputs": []
    },
    {
      "cell_type": "code",
      "source": [
        "# Calcula los parametros con la ecuación de la normal\n",
        "theta = normalEqn(X, y);\n",
        "\n",
        "# Muestra los resultados optenidos a partir de la aplicación de la ecuación de la normal\n",
        "print('Theta calculado a partir de la ecuación de la normal: {:s}'.format(str(theta)));\n",
        "\n",
        "# Estimar el precio para una coche antiguo\n",
        "\n",
        "X_array = [1, 2,1,3,2001,7.23,90688,2056,8]\n",
        "price = np.dot(X_array, theta)\n",
        "\n",
        "print('Precio predecido para una cada de superficie de 1650 sq-ft y 3 dormitorios (usando la ecuación de la normal): ${:.0f}'.format(price))"
      ],
      "metadata": {
        "colab": {
          "base_uri": "https://localhost:8080/"
        },
        "id": "E7px4OMrf9un",
        "outputId": "14b0c500-3282-4308-a0a7-45bc81a07634"
      },
      "execution_count": 225,
      "outputs": [
        {
          "output_type": "stream",
          "name": "stdout",
          "text": [
            "Theta calculado a partir de la ecuación de la normal: [ 1.15737986e+00 -6.63066293e-06 -2.51785183e-02  6.63868452e-02\n",
            " -3.85668081e-03  1.91835283e-03  2.20181966e-07  1.09845241e-07\n",
            "  1.70656490e-04]\n",
            "Precio predecido para una cada de superficie de 1650 sq-ft y 3 dormitorios (usando la ecuación de la normal): $-6\n"
          ]
        }
      ]
    },
    {
      "cell_type": "markdown",
      "source": [
        "DECRIPCION DEL DATASET\n",
        "el dataset que me toco utilizar el de precios de coches viejos en el cual tube que eliminar el nombre ya que era un dato con valores unicos yy haci solo travajar con un n=8 y un m=5512"
      ],
      "metadata": {
        "id": "GfQcgeRcqCuV"
      }
    }
  ]
}