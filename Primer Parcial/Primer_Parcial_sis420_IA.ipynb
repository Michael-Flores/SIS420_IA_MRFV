{
  "nbformat": 4,
  "nbformat_minor": 0,
  "metadata": {
    "colab": {
      "provenance": []
    },
    "kernelspec": {
      "name": "python3",
      "display_name": "Python 3"
    },
    "language_info": {
      "name": "python"
    }
  },
  "cells": [
    {
      "cell_type": "code",
      "execution_count": 1,
      "metadata": {
        "id": "qUxgZvq33-ID"
      },
      "outputs": [],
      "source": [
        "# utilizado para manejos de directorios y rutas\n",
        "import os\n",
        "\n",
        "# Computacion vectorial y cientifica para python\n",
        "import numpy as np\n",
        "\n",
        "# Librerias para graficación (trazado de gráficos)\n",
        "from matplotlib import pyplot\n",
        "from mpl_toolkits.mplot3d import Axes3D  # Necesario para graficar superficies 3D\n",
        "\n",
        "# llama a matplotlib a embeber graficas dentro de los cuadernillos\n",
        "%matplotlib inline"
      ]
    },
    {
      "cell_type": "code",
      "source": [
        "import pandas as pd\n",
        "from sklearn.preprocessing import LabelEncoder\n",
        "from datetime import datetime"
      ],
      "metadata": {
        "id": "3zeLCpwjiQCT"
      },
      "execution_count": 2,
      "outputs": []
    },
    {
      "cell_type": "code",
      "source": [
        "#Carga de dataset\n",
        "data = pd.read_csv('/content/test_scores.csv')"
      ],
      "metadata": {
        "id": "V0ZXOA-6iUmV"
      },
      "execution_count": 3,
      "outputs": []
    },
    {
      "cell_type": "code",
      "source": [
        "print(data)"
      ],
      "metadata": {
        "colab": {
          "base_uri": "https://localhost:8080/"
        },
        "id": "h325dVhXicrs",
        "outputId": "20784c8d-a192-4869-ea92-8508f30a2aa8"
      },
      "execution_count": 4,
      "outputs": [
        {
          "output_type": "stream",
          "name": "stdout",
          "text": [
            "     school school_setting school_type classroom teaching_method  n_student  \\\n",
            "0     ANKYI          Urban  Non-public       6OL        Standard       20.0   \n",
            "1     ANKYI          Urban  Non-public       6OL        Standard       20.0   \n",
            "2     ANKYI          Urban  Non-public       6OL        Standard       20.0   \n",
            "3     ANKYI          Urban  Non-public       6OL        Standard       20.0   \n",
            "4     ANKYI          Urban  Non-public       6OL        Standard       20.0   \n",
            "...     ...            ...         ...       ...             ...        ...   \n",
            "2128  ZOWMK          Urban      Public       ZBH        Standard       30.0   \n",
            "2129  ZOWMK          Urban      Public       ZBH        Standard       30.0   \n",
            "2130  ZOWMK          Urban      Public       ZBH        Standard       30.0   \n",
            "2131  ZOWMK          Urban      Public       ZBH        Standard       30.0   \n",
            "2132  ZOWMK          Urban      Public       ZBH        Standard       30.0   \n",
            "\n",
            "     student_id  gender                             lunch  pretest  posttest  \n",
            "0         2FHT3  Female                  Does not qualify     62.0      72.0  \n",
            "1         3JIVH  Female                  Does not qualify     66.0      79.0  \n",
            "2         3XOWE    Male                  Does not qualify     64.0      76.0  \n",
            "3         556O0  Female                  Does not qualify     61.0      77.0  \n",
            "4         74LOE    Male                  Does not qualify     64.0      76.0  \n",
            "...         ...     ...                               ...      ...       ...  \n",
            "2128      T8LSK  Female                  Does not qualify     39.0      55.0  \n",
            "2129      VNP26  Female  Qualifies for reduced/free lunch     38.0      46.0  \n",
            "2130      YDR1Z  Female  Qualifies for reduced/free lunch     45.0      51.0  \n",
            "2131      YUEIH    Male  Qualifies for reduced/free lunch     46.0      53.0  \n",
            "2132      ZVCQ8    Male  Qualifies for reduced/free lunch     41.0      48.0  \n",
            "\n",
            "[2133 rows x 11 columns]\n"
          ]
        }
      ]
    },
    {
      "cell_type": "code",
      "source": [
        "data.info()"
      ],
      "metadata": {
        "colab": {
          "base_uri": "https://localhost:8080/"
        },
        "id": "ZoYIJwRyifh-",
        "outputId": "d8a4d5cb-c56a-4993-f287-17dc228d93ca"
      },
      "execution_count": 5,
      "outputs": [
        {
          "output_type": "stream",
          "name": "stdout",
          "text": [
            "<class 'pandas.core.frame.DataFrame'>\n",
            "RangeIndex: 2133 entries, 0 to 2132\n",
            "Data columns (total 11 columns):\n",
            " #   Column           Non-Null Count  Dtype  \n",
            "---  ------           --------------  -----  \n",
            " 0   school           2133 non-null   object \n",
            " 1   school_setting   2133 non-null   object \n",
            " 2   school_type      2133 non-null   object \n",
            " 3   classroom        2133 non-null   object \n",
            " 4   teaching_method  2133 non-null   object \n",
            " 5   n_student        2133 non-null   float64\n",
            " 6   student_id       2133 non-null   object \n",
            " 7   gender           2133 non-null   object \n",
            " 8   lunch            2133 non-null   object \n",
            " 9   pretest          2133 non-null   float64\n",
            " 10  posttest         2133 non-null   float64\n",
            "dtypes: float64(3), object(8)\n",
            "memory usage: 183.4+ KB\n"
          ]
        }
      ]
    },
    {
      "cell_type": "code",
      "source": [
        "\n",
        "# Supongamos que 'data' es tu DataFrame\n",
        "columna_categorica = 'student_id'\n",
        "\n",
        "\n",
        "\n",
        "\n",
        "# Elimina la columna categórica original\n",
        "data.drop(columna_categorica, axis=1, inplace=True)"
      ],
      "metadata": {
        "id": "iFCu2N4YuhfQ"
      },
      "execution_count": 6,
      "outputs": []
    },
    {
      "cell_type": "code",
      "source": [
        "data.info()"
      ],
      "metadata": {
        "colab": {
          "base_uri": "https://localhost:8080/"
        },
        "id": "VpbiDOZmjHzw",
        "outputId": "dce652c2-4c21-4c92-dc62-baf2706f5429"
      },
      "execution_count": 7,
      "outputs": [
        {
          "output_type": "stream",
          "name": "stdout",
          "text": [
            "<class 'pandas.core.frame.DataFrame'>\n",
            "RangeIndex: 2133 entries, 0 to 2132\n",
            "Data columns (total 10 columns):\n",
            " #   Column           Non-Null Count  Dtype  \n",
            "---  ------           --------------  -----  \n",
            " 0   school           2133 non-null   object \n",
            " 1   school_setting   2133 non-null   object \n",
            " 2   school_type      2133 non-null   object \n",
            " 3   classroom        2133 non-null   object \n",
            " 4   teaching_method  2133 non-null   object \n",
            " 5   n_student        2133 non-null   float64\n",
            " 6   gender           2133 non-null   object \n",
            " 7   lunch            2133 non-null   object \n",
            " 8   pretest          2133 non-null   float64\n",
            " 9   posttest         2133 non-null   float64\n",
            "dtypes: float64(3), object(7)\n",
            "memory usage: 166.8+ KB\n"
          ]
        }
      ]
    },
    {
      "cell_type": "code",
      "source": [
        "#variables categoricas\n",
        "columnas_categoricas = data.select_dtypes(include=['object']).columns\n",
        "#variables fechas\n",
        "columnas_fechas = data.select_dtypes(include=['datetime64']).columns"
      ],
      "metadata": {
        "id": "sFmWfM7Mjn9Z"
      },
      "execution_count": 8,
      "outputs": []
    },
    {
      "cell_type": "code",
      "source": [
        "#Procesamiento de frases o palabras\n",
        "for columna in columnas_categoricas:\n",
        "  le = LabelEncoder()\n",
        "  data[columna] = le.fit_transform(data[columna])"
      ],
      "metadata": {
        "id": "GcxRaOoqkOyD"
      },
      "execution_count": 9,
      "outputs": []
    },
    {
      "cell_type": "code",
      "source": [
        "#Fechas a numeros\n",
        "for columna in columnas_fechas:\n",
        "  data[columna] = pd.to_numeric(data[columna].map(datetime.timestamp))"
      ],
      "metadata": {
        "id": "hVuep7WXkQvA"
      },
      "execution_count": 10,
      "outputs": []
    },
    {
      "cell_type": "code",
      "source": [
        "#resultado\n",
        "print(data)"
      ],
      "metadata": {
        "colab": {
          "base_uri": "https://localhost:8080/"
        },
        "id": "vHzN_Uj0kS96",
        "outputId": "8348eb52-aca7-499a-ed21-9f136df79808"
      },
      "execution_count": 11,
      "outputs": [
        {
          "output_type": "stream",
          "name": "stdout",
          "text": [
            "      school  school_setting  school_type  classroom  teaching_method  \\\n",
            "0          0               2            0         22                1   \n",
            "1          0               2            0         22                1   \n",
            "2          0               2            0         22                1   \n",
            "3          0               2            0         22                1   \n",
            "4          0               2            0         22                1   \n",
            "...      ...             ...          ...        ...              ...   \n",
            "2128      22               2            1         94                1   \n",
            "2129      22               2            1         94                1   \n",
            "2130      22               2            1         94                1   \n",
            "2131      22               2            1         94                1   \n",
            "2132      22               2            1         94                1   \n",
            "\n",
            "      n_student  gender  lunch  pretest  posttest  \n",
            "0          20.0       0      0     62.0      72.0  \n",
            "1          20.0       0      0     66.0      79.0  \n",
            "2          20.0       1      0     64.0      76.0  \n",
            "3          20.0       0      0     61.0      77.0  \n",
            "4          20.0       1      0     64.0      76.0  \n",
            "...         ...     ...    ...      ...       ...  \n",
            "2128       30.0       0      0     39.0      55.0  \n",
            "2129       30.0       0      1     38.0      46.0  \n",
            "2130       30.0       0      1     45.0      51.0  \n",
            "2131       30.0       1      1     46.0      53.0  \n",
            "2132       30.0       1      1     41.0      48.0  \n",
            "\n",
            "[2133 rows x 10 columns]\n"
          ]
        }
      ]
    },
    {
      "cell_type": "code",
      "source": [
        "data.info()"
      ],
      "metadata": {
        "colab": {
          "base_uri": "https://localhost:8080/"
        },
        "id": "tJ9GFsACksGy",
        "outputId": "0f892650-f7b1-4735-a396-3397e255a27e"
      },
      "execution_count": 12,
      "outputs": [
        {
          "output_type": "stream",
          "name": "stdout",
          "text": [
            "<class 'pandas.core.frame.DataFrame'>\n",
            "RangeIndex: 2133 entries, 0 to 2132\n",
            "Data columns (total 10 columns):\n",
            " #   Column           Non-Null Count  Dtype  \n",
            "---  ------           --------------  -----  \n",
            " 0   school           2133 non-null   int64  \n",
            " 1   school_setting   2133 non-null   int64  \n",
            " 2   school_type      2133 non-null   int64  \n",
            " 3   classroom        2133 non-null   int64  \n",
            " 4   teaching_method  2133 non-null   int64  \n",
            " 5   n_student        2133 non-null   float64\n",
            " 6   gender           2133 non-null   int64  \n",
            " 7   lunch            2133 non-null   int64  \n",
            " 8   pretest          2133 non-null   float64\n",
            " 9   posttest         2133 non-null   float64\n",
            "dtypes: float64(3), int64(7)\n",
            "memory usage: 166.8 KB\n"
          ]
        }
      ]
    },
    {
      "cell_type": "code",
      "source": [
        "# Lectura de Datos\n",
        "X = data.iloc[:, :9]\n",
        "y = data.iloc[:, 9]\n",
        "m = y.size"
      ],
      "metadata": {
        "id": "YuuRUXgCwvZ_"
      },
      "execution_count": 13,
      "outputs": []
    },
    {
      "cell_type": "code",
      "source": [
        "print(X)\n",
        "print('*'*25)\n",
        "print(y)"
      ],
      "metadata": {
        "colab": {
          "base_uri": "https://localhost:8080/"
        },
        "id": "x1NBC6A6xFoC",
        "outputId": "d8fbac6f-d219-478b-9f10-57fd11173aa5"
      },
      "execution_count": 14,
      "outputs": [
        {
          "output_type": "stream",
          "name": "stdout",
          "text": [
            "      school  school_setting  school_type  classroom  teaching_method  \\\n",
            "0          0               2            0         22                1   \n",
            "1          0               2            0         22                1   \n",
            "2          0               2            0         22                1   \n",
            "3          0               2            0         22                1   \n",
            "4          0               2            0         22                1   \n",
            "...      ...             ...          ...        ...              ...   \n",
            "2128      22               2            1         94                1   \n",
            "2129      22               2            1         94                1   \n",
            "2130      22               2            1         94                1   \n",
            "2131      22               2            1         94                1   \n",
            "2132      22               2            1         94                1   \n",
            "\n",
            "      n_student  gender  lunch  pretest  \n",
            "0          20.0       0      0     62.0  \n",
            "1          20.0       0      0     66.0  \n",
            "2          20.0       1      0     64.0  \n",
            "3          20.0       0      0     61.0  \n",
            "4          20.0       1      0     64.0  \n",
            "...         ...     ...    ...      ...  \n",
            "2128       30.0       0      0     39.0  \n",
            "2129       30.0       0      1     38.0  \n",
            "2130       30.0       0      1     45.0  \n",
            "2131       30.0       1      1     46.0  \n",
            "2132       30.0       1      1     41.0  \n",
            "\n",
            "[2133 rows x 9 columns]\n",
            "*************************\n",
            "0       72.0\n",
            "1       79.0\n",
            "2       76.0\n",
            "3       77.0\n",
            "4       76.0\n",
            "        ... \n",
            "2128    55.0\n",
            "2129    46.0\n",
            "2130    51.0\n",
            "2131    53.0\n",
            "2132    48.0\n",
            "Name: posttest, Length: 2133, dtype: float64\n"
          ]
        }
      ]
    },
    {
      "cell_type": "code",
      "source": [
        "def  featureNormalize(X):\n",
        "    X_norm = X.copy()\n",
        "    mu = np.zeros(X.shape[1])\n",
        "    sigma = np.zeros(X.shape[1])\n",
        "\n",
        "    mu = np.mean(X, axis = 0)\n",
        "    sigma = np.std(X, axis = 0)\n",
        "    X_norm = (X - mu) / sigma\n",
        "\n",
        "    return X_norm, mu, sigma"
      ],
      "metadata": {
        "id": "DrrFytt2gkI8"
      },
      "execution_count": 15,
      "outputs": []
    },
    {
      "cell_type": "code",
      "source": [
        "# llama featureNormalize con los datos cargados\n",
        "X_norm, mu, sigma = featureNormalize(X)\n",
        "\n",
        "print(X)\n",
        "print('Media calculada:', mu)\n",
        "print('Desviación estandar calculada:', sigma)\n",
        "print(X_norm)"
      ],
      "metadata": {
        "colab": {
          "base_uri": "https://localhost:8080/"
        },
        "id": "MhHhItqc4YLy",
        "outputId": "2a7ecca1-4df6-483c-e5a9-9f3b9908fe9e"
      },
      "execution_count": 16,
      "outputs": [
        {
          "output_type": "stream",
          "name": "stdout",
          "text": [
            "      school  school_setting  school_type  classroom  teaching_method  \\\n",
            "0          0               2            0         22                1   \n",
            "1          0               2            0         22                1   \n",
            "2          0               2            0         22                1   \n",
            "3          0               2            0         22                1   \n",
            "4          0               2            0         22                1   \n",
            "...      ...             ...          ...        ...              ...   \n",
            "2128      22               2            1         94                1   \n",
            "2129      22               2            1         94                1   \n",
            "2130      22               2            1         94                1   \n",
            "2131      22               2            1         94                1   \n",
            "2132      22               2            1         94                1   \n",
            "\n",
            "      n_student  gender  lunch  pretest  \n",
            "0          20.0       0      0     62.0  \n",
            "1          20.0       0      0     66.0  \n",
            "2          20.0       1      0     64.0  \n",
            "3          20.0       0      0     61.0  \n",
            "4          20.0       1      0     64.0  \n",
            "...         ...     ...    ...      ...  \n",
            "2128       30.0       0      0     39.0  \n",
            "2129       30.0       0      1     38.0  \n",
            "2130       30.0       0      1     45.0  \n",
            "2131       30.0       1      1     46.0  \n",
            "2132       30.0       1      1     41.0  \n",
            "\n",
            "[2133 rows x 9 columns]\n",
            "Media calculada: school             11.264885\n",
            "school_setting      1.185654\n",
            "school_type         0.741678\n",
            "classroom          48.220816\n",
            "teaching_method     0.643694\n",
            "n_student          22.796531\n",
            "gender              0.504923\n",
            "lunch               0.430380\n",
            "pretest            54.955931\n",
            "dtype: float64\n",
            "Desviación estandar calculada: school              6.515132\n",
            "school_setting      0.793339\n",
            "school_type         0.437712\n",
            "classroom          28.660247\n",
            "teaching_method     0.478907\n",
            "n_student           4.227901\n",
            "gender              0.499976\n",
            "lunch               0.495129\n",
            "pretest            13.559922\n",
            "dtype: float64\n",
            "        school  school_setting  school_type  classroom  teaching_method  \\\n",
            "0    -1.729034         1.02648    -1.694445  -0.914885         0.743998   \n",
            "1    -1.729034         1.02648    -1.694445  -0.914885         0.743998   \n",
            "2    -1.729034         1.02648    -1.694445  -0.914885         0.743998   \n",
            "3    -1.729034         1.02648    -1.694445  -0.914885         0.743998   \n",
            "4    -1.729034         1.02648    -1.694445  -0.914885         0.743998   \n",
            "...        ...             ...          ...        ...              ...   \n",
            "2128  1.647720         1.02648     0.590164   1.597306         0.743998   \n",
            "2129  1.647720         1.02648     0.590164   1.597306         0.743998   \n",
            "2130  1.647720         1.02648     0.590164   1.597306         0.743998   \n",
            "2131  1.647720         1.02648     0.590164   1.597306         0.743998   \n",
            "2132  1.647720         1.02648     0.590164   1.597306         0.743998   \n",
            "\n",
            "      n_student    gender     lunch   pretest  \n",
            "0     -0.661447 -1.009894 -0.869227  0.519477  \n",
            "1     -0.661447 -1.009894 -0.869227  0.814464  \n",
            "2     -0.661447  0.990203 -0.869227  0.666971  \n",
            "3     -0.661447 -1.009894 -0.869227  0.445730  \n",
            "4     -0.661447  0.990203 -0.869227  0.666971  \n",
            "...         ...       ...       ...       ...  \n",
            "2128   1.703793 -1.009894 -0.869227 -1.176698  \n",
            "2129   1.703793 -1.009894  1.150447 -1.250445  \n",
            "2130   1.703793 -1.009894  1.150447 -0.734217  \n",
            "2131   1.703793  0.990203  1.150447 -0.660471  \n",
            "2132   1.703793  0.990203  1.150447 -1.029204  \n",
            "\n",
            "[2133 rows x 9 columns]\n"
          ]
        }
      ]
    },
    {
      "cell_type": "code",
      "source": [
        "# Añade el termino de interseccion a X\n",
        "# (Columna de unos para X0)\n",
        "X = np.concatenate([np.ones((m, 1)), X_norm], axis=1)"
      ],
      "metadata": {
        "id": "EB4cCmdm4bxJ"
      },
      "execution_count": 17,
      "outputs": []
    },
    {
      "cell_type": "code",
      "source": [
        "print(X)"
      ],
      "metadata": {
        "colab": {
          "base_uri": "https://localhost:8080/"
        },
        "id": "jxdWrQDC4fcD",
        "outputId": "c295ca67-7bbf-4488-9bb8-c18e16dc1ada"
      },
      "execution_count": 18,
      "outputs": [
        {
          "output_type": "stream",
          "name": "stdout",
          "text": [
            "[[ 1.         -1.729034    1.02647958 ... -1.00989423 -0.86922699\n",
            "   0.51947714]\n",
            " [ 1.         -1.729034    1.02647958 ... -1.00989423 -0.86922699\n",
            "   0.8144641 ]\n",
            " [ 1.         -1.729034    1.02647958 ...  0.9902027  -0.86922699\n",
            "   0.66697062]\n",
            " ...\n",
            " [ 1.          1.64772018  1.02647958 ... -1.00989423  1.15044748\n",
            "  -0.73421741]\n",
            " [ 1.          1.64772018  1.02647958 ...  0.9902027   1.15044748\n",
            "  -0.66047067]\n",
            " [ 1.          1.64772018  1.02647958 ...  0.9902027   1.15044748\n",
            "  -1.02920437]]\n"
          ]
        }
      ]
    },
    {
      "cell_type": "code",
      "source": [
        "def computeCostMulti(X, y, theta):\n",
        "    # Inicializa algunos valores utiles\n",
        "    m = y.shape[0] # numero de ejemplos de entrenamiento\n",
        "\n",
        "    J = 0\n",
        "\n",
        "    h = np.dot(X, theta)\n",
        "\n",
        "    J = (1/(2 * m)) * np.sum(np.square(np.dot(X, theta) - y))\n",
        "\n",
        "    return J\n"
      ],
      "metadata": {
        "id": "is_NER384kX5"
      },
      "execution_count": 19,
      "outputs": []
    },
    {
      "cell_type": "code",
      "source": [
        "def gradientDescentMulti(X, y, theta, alpha, num_iters):\n",
        "\n",
        "    # Inicializa algunos valores\n",
        "    m = y.shape[0] # numero de ejemplos de entrenamiento\n",
        "\n",
        "    # realiza una copia de theta, el cual será acutalizada por el descenso por el gradiente\n",
        "    theta = theta.copy()\n",
        "\n",
        "    J_history = []\n",
        "\n",
        "    for i in range(num_iters):\n",
        "        theta = theta - (alpha / m) * (np.dot(X, theta) - y).dot(X)\n",
        "        J_history.append(computeCostMulti(X, y, theta))\n",
        "\n",
        "    return theta, J_history"
      ],
      "metadata": {
        "id": "NTic99Il4k9H"
      },
      "execution_count": 20,
      "outputs": []
    },
    {
      "cell_type": "code",
      "source": [
        "# Elegir algun valor para alpha (probar varias alternativas)\n",
        "alpha = 0.003\n",
        "num_iters = 4000\n",
        "\n",
        "# inicializa theta y ejecuta el descenso por el gradiente\n",
        "theta = np.zeros(10)\n",
        "theta, J_history = gradientDescentMulti(X, y, theta, alpha, num_iters)\n",
        "\n",
        "# Grafica la convergencia del costo\n",
        "pyplot.plot(np.arange(len(J_history)), J_history, lw=2)\n",
        "pyplot.xlabel('Numero de iteraciones')\n",
        "pyplot.ylabel('Costo J')\n",
        "\n",
        "# Muestra los resultados del descenso por el gradiente\n",
        "print('theta calculado por el descenso por el gradiente: {:s}'.format(str(theta)))\n",
        "\n",
        "#  Estimar el puntaje de postes para un un estudiante\n",
        "X_array = [1, 3, 1, 1, 100, 1, 48, 0, 1, 69]\n",
        "X_array[1:10] = (X_array[1:10] - mu) / sigma\n",
        "price = np.dot(X_array, theta)   # Se debe cambiar esto\n",
        "\n",
        "print('El valor predecido es (usando el descenso por el gradiente): {:.4f}'.format(price))"
      ],
      "metadata": {
        "colab": {
          "base_uri": "https://localhost:8080/",
          "height": 518
        },
        "id": "2sc2AmKF4qJQ",
        "outputId": "25c04f11-54a9-4220-c410-a5ae0e0b86da"
      },
      "execution_count": 22,
      "outputs": [
        {
          "output_type": "stream",
          "name": "stdout",
          "text": [
            "theta calculado por el descenso por el gradiente: [ 6.71017985e+01 -1.66037245e-01 -4.44231638e-03  1.94877420e-02\n",
            "  4.44360682e-02 -2.91055856e+00 -3.45970476e-01 -5.62745606e-02\n",
            " -4.94410113e-01  1.24304509e+01]\n",
            "El valor predecido es (usando el descenso por el gradiente): 75.5397\n"
          ]
        },
        {
          "output_type": "display_data",
          "data": {
            "text/plain": [
              "<Figure size 640x480 with 1 Axes>"
            ],
            "image/png": "[encoded data removed]"
          },
          "metadata": {}
        }
      ]
    },
    {
      "cell_type": "code",
      "source": [],
      "metadata": {
        "id": "pHpGapUtf4QP"
      },
      "execution_count": 21,
      "outputs": []
    },
    {
      "cell_type": "code",
      "source": [],
      "metadata": {
        "id": "c_fhRmzof56K"
      },
      "execution_count": 21,
      "outputs": []
    },
    {
      "cell_type": "code",
      "source": [],
      "metadata": {
        "id": "_MMoIdODf9FN"
      },
      "execution_count": 21,
      "outputs": []
    },
    {
      "cell_type": "code",
      "source": [],
      "metadata": {
        "id": "E7px4OMrf9un"
      },
      "execution_count": 21,
      "outputs": []
    }
  ]
}